{
 "cells": [
  {
   "cell_type": "code",
   "execution_count": 312,
   "metadata": {},
   "outputs": [],
   "source": [
    "import os\n",
    "from dotenv import load_dotenv\n",
    "load_dotenv()\n",
    "from pymongo import MongoClient\n",
    "import geocoder\n",
    "\n",
    "def connectCollection(database, collection):\n",
    "    client = MongoClient()\n",
    "    db = client[database]\n",
    "    coll = db[collection]\n",
    "    return db, coll\n",
    "\n",
    "db, austin = connectCollection('companies','companies')\n",
    "db, start = connectCollection('companies','startups')\n",
    "db, filtered = connectCollection('companies','filtered')"
   ]
  },
  {
   "cell_type": "code",
   "execution_count": 313,
   "metadata": {},
   "outputs": [],
   "source": [
    "# encontramos todas las empresas en Austin, Texas\n",
    "austin_comp = list(austin.find({\"offices.city\":\"Austin\"}))"
   ]
  },
  {
   "cell_type": "code",
   "execution_count": 315,
   "metadata": {},
   "outputs": [],
   "source": [
    "for y in austin_comp:\n",
    "    if y[\"founded_year\"]==None or y[\"founded_year\"]<2009:\n",
    "        pass\n",
    "    else:\n",
    "        for of in range(len(y[\"offices\"])):\n",
    "            db.filtered.insert_one(\n",
    "            {\"name\":y[\"name\"],\"homepage_url\":y[\"homepage_url\"],\"category_code\":y[\"category_code\"],\n",
    "            \"number_of_employees\":y[\"number_of_employees\"],\"founded_year\":y[\"founded_year\"],\n",
    "            \"total_money_raised\":y[\"total_money_raised\"],\"offices\":y[\"offices\"][of]})\n",
    "\n"
   ]
  },
  {
   "cell_type": "code",
   "execution_count": 316,
   "metadata": {},
   "outputs": [],
   "source": [
    "# sacamos la posicion de todas las empresas posibles en Austin\n",
    "def getLocation(company):\n",
    "    longitude = company[\"offices\"][\"longitude\"]\n",
    "    latitude = company[\"offices\"][\"latitude\"]\n",
    "    if longitude!=None:\n",
    "        loc = {\n",
    "            'type':'Point',\n",
    "            'coordinates':[float(longitude), float(latitude)]\n",
    "        }\n",
    "        return loc\n",
    "    else:\n",
    "        loc = {\n",
    "            'type':'Point',\n",
    "            'coordinates':[float(0),float(0)]\n",
    "        }\n",
    "        return loc"
   ]
  },
  {
   "cell_type": "code",
   "execution_count": 317,
   "metadata": {},
   "outputs": [],
   "source": [
    "for i in filter_list:\n",
    "    value = {\"$set\": {'location':getLocation(i)}}\n",
    "    filtered.update_one(i,value)\n"
   ]
  },
  {
   "cell_type": "code",
   "execution_count": 318,
   "metadata": {},
   "outputs": [],
   "source": [
    "# de angel.co sacamos un csv filtrado de startups en Austin que han ganado entre 2 y 100 M\n",
    "#https://angel.co/companies?locations[]=1617-Austin,+Texas&company_types[]=Startup&raised[min]=2040355&raised[max]=100000000\n",
    "\n",
    "startups = list(start.find())\n"
   ]
  },
  {
   "cell_type": "code",
   "execution_count": 325,
   "metadata": {},
   "outputs": [],
   "source": [
    "def place_request(direction,Pcode):\n",
    "    authToken = os.getenv(\"google\")\n",
    "    if not authToken:\n",
    "        raise ValueError(\"No API token!\")\n",
    "    else:\n",
    "        if not Pcode:\n",
    "            g = geocoder.google(direction,key=authToken)    \n",
    "        else:\n",
    "            g = geocoder.google(direction,key=authToken,postalcode=Pcode)\n",
    "        return g.json"
   ]
  },
  {
   "cell_type": "code",
   "execution_count": 326,
   "metadata": {},
   "outputs": [],
   "source": [
    "startup_loc = []\n",
    "for startup in startups:\n",
    "    #x = place_request(startup[\"Name\"]+\",TX\",0)\n",
    "    latitude = x[\"raw\"][\"geometry\"][\"location\"][\"lat\"]\n",
    "    longitude = x[\"raw\"][\"geometry\"][\"location\"][\"lng\"]\n",
    "    startup_loc.append(zip([latitude,longitude]))"
   ]
  },
  {
   "cell_type": "code",
   "execution_count": 332,
   "metadata": {},
   "outputs": [],
   "source": [
    "#starbucks = place_request(\"starbucks\",p)"
   ]
  },
  {
   "cell_type": "code",
   "execution_count": 362,
   "metadata": {},
   "outputs": [],
   "source": [
    "# https://code.org/learn/find-school/json\n",
    "schools = requests.get(\"https://code.org/schools.json\").json()[\"schools\"]"
   ]
  },
  {
   "cell_type": "code",
   "execution_count": 372,
   "metadata": {},
   "outputs": [],
   "source": [
    "school_loc = []\n",
    "for s in range(len(schools)):\n",
    "    if schools[s][\"city\"]==\"Austin\" and schools[s][\"state\"]==\"TX\":\n",
    "        latitude = schools[s][\"latitude\"]\n",
    "        longitude = schools[s][\"longitude\"]\n",
    "        school_loc.append(zip([latitude,longitude]))"
   ]
  },
  {
   "cell_type": "code",
   "execution_count": 371,
   "metadata": {},
   "outputs": [
    {
     "data": {
      "text/plain": [
       "[]"
      ]
     },
     "execution_count": 371,
     "metadata": {},
     "output_type": "execute_result"
    }
   ],
   "source": []
  },
  {
   "cell_type": "code",
   "execution_count": null,
   "metadata": {},
   "outputs": [],
   "source": []
  }
 ],
 "metadata": {
  "kernelspec": {
   "display_name": "Python 3",
   "language": "python",
   "name": "python3"
  },
  "language_info": {
   "codemirror_mode": {
    "name": "ipython",
    "version": 3
   },
   "file_extension": ".py",
   "mimetype": "text/x-python",
   "name": "python",
   "nbconvert_exporter": "python",
   "pygments_lexer": "ipython3",
   "version": "3.7.5"
  }
 },
 "nbformat": 4,
 "nbformat_minor": 2
}

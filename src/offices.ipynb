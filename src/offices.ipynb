{
 "cells": [
  {
   "cell_type": "code",
   "execution_count": 3,
   "metadata": {},
   "outputs": [],
   "source": [
    "import location_functions as L\n",
    "\n",
    "import re"
   ]
  },
  {
   "cell_type": "markdown",
   "metadata": {},
   "source": [
    "Web scraping a 42Floors, usando el url de los resultados filtrados:\n",
    "    - SIZE: indifferent\n",
    "    - USES: Office, Live/Work\n",
    "    - Markets: Back Bay, Bay Village, Beacon Hill, Bellevue Hill, Central Maverick Square (Paris Street),  Chinatown (Leather District), Columbus, D Street (West Broadway), Downtown Boston, Financial District, Harrison Lenox, Jeffries Point, North End,  Seaport District, Shawmut, West End\n",
    "    - SORTED BY: posted date\n",
    "    \n",
    "Obtenemos informacion a cerca de:\n",
    "    - La direccion\n",
    "    - Las coordenadas\n",
    "    - El tamaño de la oficina\n",
    "    - La referencia en internet"
   ]
  },
  {
   "cell_type": "code",
   "execution_count": 4,
   "metadata": {},
   "outputs": [],
   "source": [
    "rentals_url = \"https://42floors.com/for-lease/office-space/us/ma/boston?type=for-lease&uses%5B%5D=5&uses%5B%5D=91&regions%5B%5D=40516&regions%5B%5D=53167&regions%5B%5D=40510&regions%5B%5D=53183&regions%5B%5D=53168&regions%5B%5D=53176&regions%5B%5D=53166&regions%5B%5D=40501&regions%5B%5D=53182&regions%5B%5D=53172&regions%5B%5D=85827&regions%5B%5D=40498&regions%5B%5D=53173&regions%5B%5D=94425&regions%5B%5D=160484&order=posted_desc&min=&max=\"\n",
    "rentals = L.getRequest(rentals_url)\n",
    "\n",
    "office_adress = rentals.find_all(\"span\",class_=\"title block text-overflow text-blue\")\n",
    "office_coords = []\n",
    "office_info = []\n",
    "for i in office_adress:\n",
    "    office_name = i.text.strip().split(\"\\n\")[0]\n",
    "    res = L.place_request(office_name)\n",
    "    office_info.append(res)\n",
    "    lat = res[\"raw\"][\"geometry\"][\"location\"][\"lat\"]\n",
    "    lng = res[\"raw\"][\"geometry\"][\"location\"][\"lng\"]\n",
    "    office_coords.append([lng,lat])\n",
    "\n",
    "of_size = [x.text for x in rentals.find_all(\"span\",class_=\"size\")]\n",
    "\n",
    "of_ref = []\n",
    "for link in rentals.findAll('a', attrs={'href': re.compile(\"^/us/ma/boston/\")}):\n",
    "    of_ref.append(link.get(\"href\"))"
   ]
  },
  {
   "cell_type": "code",
   "execution_count": 5,
   "metadata": {},
   "outputs": [
    {
     "name": "stdout",
     "output_type": "stream",
     "text": [
      "Stored 'office_info' (list)\n",
      "Stored 'office_coords' (list)\n",
      "Stored 'of_ref' (list)\n",
      "Stored 'of_size' (list)\n"
     ]
    }
   ],
   "source": [
    "%store office_info\n",
    "%store office_coords\n",
    "%store of_ref\n",
    "%store of_size\n",
    "\n"
   ]
  },
  {
   "cell_type": "code",
   "execution_count": null,
   "metadata": {},
   "outputs": [],
   "source": []
  }
 ],
 "metadata": {
  "kernelspec": {
   "display_name": "Python 3",
   "language": "python",
   "name": "python3"
  },
  "language_info": {
   "codemirror_mode": {
    "name": "ipython",
    "version": 3
   },
   "file_extension": ".py",
   "mimetype": "text/x-python",
   "name": "python",
   "nbconvert_exporter": "python",
   "pygments_lexer": "ipython3",
   "version": "3.7.5"
  }
 },
 "nbformat": 4,
 "nbformat_minor": 2
}

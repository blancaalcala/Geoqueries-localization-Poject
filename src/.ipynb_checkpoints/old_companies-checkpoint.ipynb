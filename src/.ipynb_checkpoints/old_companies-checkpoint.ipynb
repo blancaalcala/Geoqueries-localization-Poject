{
 "cells": [
  {
   "cell_type": "code",
   "execution_count": 5,
   "metadata": {},
   "outputs": [],
   "source": [
    "import location_functions as L\n",
    "import os\n",
    "import re\n",
    "import pandas as pd\n",
    "from dotenv import load_dotenv\n",
    "from pymongo import MongoClient\n",
    "from bs4 import BeautifulSoup\n",
    "import geocoder\n",
    "import requests\n",
    "import folium\n",
    "from folium.plugins import MousePosition\n",
    "from folium.plugins import Draw\n",
    "from geopy.distance import distance as getDistance\n",
    "load_dotenv()\n",
    "\n",
    "dbName = 'companies'\n",
    "\n",
    "db, boston = F.connectCollection(dbName,'companies')\n",
    "db, start = F.connectCollection(dbName,'startups')\n",
    "db, old_comp = F.connectCollection(dbName,'old_comp')\n",
    "db, starbucks = F.connectCollection(dbName,'starbucks')\n",
    "db, schools = F.connectCollection(dbName,'schools')\n",
    "db, night = F.connectCollection(dbName,'night')"
   ]
  },
  {
   "cell_type": "markdown",
   "metadata": {},
   "source": [
    "1. Encontramos todas las empresas con oficinas en Boston, MA  \n",
    "2. Estas empresas deben seguir existiendo (deadpooled==None)  \n",
    "3. Bebemos saber el año en el que fueron fundadas (founded_year==exists)   \n",
    "4. Filtramos por el año en el que fueron fundadas (no mas de 10 años)  \n",
    "5. Separamos las empresas en sus distintas oficinas \n",
    "6. Creamos una nueva coleccion en mongodb (old_comp) e introducimos la posicion\n"
   ]
  },
  {
   "cell_type": "code",
   "execution_count": 6,
   "metadata": {},
   "outputs": [],
   "source": [
    "boston_old = list(boston.find({\"$and\":[{\"offices.city\":\"Boston\"},\n",
    "                                        {\"deadpooled_year\":None},\n",
    "                                        {\"founded_year\":{\"$exists\":True}}]}))\n",
    "\n",
    "\n",
    "for y in boston_old:\n",
    "    if y[\"founded_year\"]==None or y[\"founded_year\"]>2009:\n",
    "        pass\n",
    "    else:\n",
    "        for of in range(len(y[\"offices\"])):\n",
    "            if y[\"offices\"][of][\"city\"]==\"Boston\":\n",
    "                db.old_comp.insert_one(\n",
    "                {\"name\":y[\"name\"],\"homepage_url\":y[\"homepage_url\"],\"category_code\":y[\"category_code\"],\n",
    "                \"number_of_employees\":y[\"number_of_employees\"],\"founded_year\":y[\"founded_year\"],\n",
    "                \"total_money_raised\":y[\"total_money_raised\"],\"offices\":y[\"offices\"][of]})\n",
    "        \n",
    "L.setLocation(old_comp)"
   ]
  },
  {
   "cell_type": "code",
   "execution_count": null,
   "metadata": {},
   "outputs": [],
   "source": []
  }
 ],
 "metadata": {
  "kernelspec": {
   "display_name": "Python 3",
   "language": "python",
   "name": "python3"
  },
  "language_info": {
   "codemirror_mode": {
    "name": "ipython",
    "version": 3
   },
   "file_extension": ".py",
   "mimetype": "text/x-python",
   "name": "python",
   "nbconvert_exporter": "python",
   "pygments_lexer": "ipython3",
   "version": "3.7.5"
  }
 },
 "nbformat": 4,
 "nbformat_minor": 2
}

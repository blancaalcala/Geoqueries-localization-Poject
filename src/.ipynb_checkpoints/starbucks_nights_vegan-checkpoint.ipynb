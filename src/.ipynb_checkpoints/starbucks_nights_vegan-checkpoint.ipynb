{
 "cells": [
  {
   "cell_type": "code",
   "execution_count": 1,
   "metadata": {},
   "outputs": [],
   "source": [
    "import location_functions as L\n",
    "import os\n",
    "import re\n",
    "import pandas as pd\n",
    "from dotenv import load_dotenv\n",
    "from pymongo import MongoClient\n",
    "from bs4 import BeautifulSoup\n",
    "import geocoder\n",
    "import requests\n",
    "import folium\n",
    "from folium.plugins import MousePosition\n",
    "from folium.plugins import Draw\n",
    "from geopy.distance import distance as getDistance\n",
    "load_dotenv()\n",
    "\n",
    "dbName = 'companies'\n",
    "\n",
    "db, starbucks = L.connectCollection(dbName,'starbucks')\n",
    "db, night = L.connectCollection(dbName,'night')\n",
    "db, vegan = L.connectCollection(dbName,'vegan')"
   ]
  },
  {
   "cell_type": "markdown",
   "metadata": {},
   "source": [
    "1. STARBUCKS\n",
    "    - Buscamos con la API de google las posiciones de los starbucks en Boston (20 primeros)\n",
    "    - Introducimos la posicion de los starbucks en una nueva coleccion en mongogb\n",
    "2. NIGHT BARS\n",
    "    - Tambien buscamos la geolocalizacion de los 20 primeros bares con la API de google\n",
    "    - Creamos una nueva coleccion e introducimos las posicion"
   ]
  },
  {
   "cell_type": "code",
   "execution_count": 2,
   "metadata": {},
   "outputs": [],
   "source": [
    "url = \"https://maps.googleapis.com/maps/api/place/textsearch/json?query=\"\n",
    "url_night = url + f\"night+bars+Boston&key={os.getenv('google')}\"\n",
    "url_vegan = url + f\"vegan+restaurants+Boston&key={os.getenv('google')}\"\n",
    "url_starbucks = url + f\"starbucks+in+Boston&key={os.getenv('google')}\"\n",
    "urls = [url_starbucks,url_night,url_vegan]\n",
    "collections = [starbucks,night,vegan]"
   ]
  },
  {
   "cell_type": "code",
   "execution_count": 3,
   "metadata": {},
   "outputs": [],
   "source": [
    "for x in range(3):\n",
    "    info = L.request_json(urls[x])\n",
    "    for i in info:\n",
    "        lng,lat = L.getPosition(i)\n",
    "        collections[x].insert_one({'location':L.getLocation(lng,lat),'adress':L.getAdress(i)})\n",
    "    "
   ]
  }
 ],
 "metadata": {
  "kernelspec": {
   "display_name": "Python 3",
   "language": "python",
   "name": "python3"
  },
  "language_info": {
   "codemirror_mode": {
    "name": "ipython",
    "version": 3
   },
   "file_extension": ".py",
   "mimetype": "text/x-python",
   "name": "python",
   "nbconvert_exporter": "python",
   "pygments_lexer": "ipython3",
   "version": "3.7.5"
  }
 },
 "nbformat": 4,
 "nbformat_minor": 2
}

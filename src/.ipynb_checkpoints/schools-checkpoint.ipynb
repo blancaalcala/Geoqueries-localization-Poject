{
 "cells": [
  {
   "cell_type": "code",
   "execution_count": 1,
   "metadata": {},
   "outputs": [],
   "source": [
    "import location_functions as L\n",
    "import mongo\n",
    "\n",
    "\n",
    "dbName = 'companies'\n",
    "\n",
    "db, schools = mongo.connectCollection(dbName,'schools')\n"
   ]
  },
  {
   "cell_type": "markdown",
   "metadata": {},
   "source": [
    "Obtenemos la posicion de todos los colegios publicos de Boston (Kaggle Database)   \n",
    "Inserta esta posicion en la coleccion en mongodb  \n",
    "https://www.kaggle.com/crawford/boston-public-schools\n"
   ]
  },
  {
   "cell_type": "code",
   "execution_count": 2,
   "metadata": {},
   "outputs": [],
   "source": [
    "school = list(schools.find())\n",
    "for s in school:\n",
    "    lng = s[\"\\ufeffX\"]\n",
    "    lat = s[\"Y\"]\n",
    "    L.createLocation(lng,lat,schools,s)"
   ]
  },
  {
   "cell_type": "code",
   "execution_count": null,
   "metadata": {},
   "outputs": [],
   "source": []
  }
 ],
 "metadata": {
  "kernelspec": {
   "display_name": "Python 3",
   "language": "python",
   "name": "python3"
  },
  "language_info": {
   "codemirror_mode": {
    "name": "ipython",
    "version": 3
   },
   "file_extension": ".py",
   "mimetype": "text/x-python",
   "name": "python",
   "nbconvert_exporter": "python",
   "pygments_lexer": "ipython3",
   "version": "3.7.5"
  }
 },
 "nbformat": 4,
 "nbformat_minor": 2
}

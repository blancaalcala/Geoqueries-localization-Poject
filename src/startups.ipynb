{
 "cells": [
  {
   "cell_type": "code",
   "execution_count": 1,
   "metadata": {},
   "outputs": [],
   "source": [
    "import location_functions as L\n",
    "import os\n",
    "import re\n",
    "import pandas as pd\n",
    "from dotenv import load_dotenv\n",
    "from pymongo import MongoClient\n",
    "from bs4 import BeautifulSoup\n",
    "import geocoder\n",
    "import requests\n",
    "import folium\n",
    "from folium.plugins import MousePosition\n",
    "from folium.plugins import Draw\n",
    "from geopy.distance import distance as getDistance\n",
    "load_dotenv()\n",
    "\n",
    "dbName = 'companies'\n",
    "\n",
    "db, boston = L.connectCollection(dbName,'companies')\n",
    "db, start = L.connectCollection(dbName,'startups')\n",
    "db, old_comp = L.connectCollection(dbName,'old_comp')\n",
    "db, starbucks = L.connectCollection(dbName,'starbucks')\n",
    "db, schools = L.connectCollection(dbName,'schools')\n",
    "db, night = L.connectCollection(dbName,'night')"
   ]
  },
  {
   "cell_type": "markdown",
   "metadata": {},
   "source": [
    "1. De angel.co sacamos un csv filtrado de startups en Boston que han ganado entre 2 y 100 M   \n",
    "2. Filtramos las startups que hayan ganado mas de 10 M\n",
    "3. Obtenemos la direccion de todas las startups en Boston (nombre y estado)\n",
    "4. Insertamos la posicion en la coleccion de startups de mongodb "
   ]
  },
  {
   "cell_type": "code",
   "execution_count": 3,
   "metadata": {},
   "outputs": [],
   "source": [
    "startups = list(start.find())\n",
    "startups = [startups[s] for s in range(len(startups)-1) if int(startups[s][\"Total Raised\"])>1000000]\n",
    "\n",
    "for startup in startups[:-1]:\n",
    "    x = L.place_request(startup[\"Name\"]+\",MA\")\n",
    "    try:\n",
    "        lat = x[\"raw\"][\"geometry\"][\"location\"][\"lat\"]\n",
    "        lng = x[\"raw\"][\"geometry\"][\"location\"][\"lng\"]\n",
    "        L.createLocation(lng,lat,start,startup)\n",
    "    except:\n",
    "        pass"
   ]
  },
  {
   "cell_type": "code",
   "execution_count": null,
   "metadata": {},
   "outputs": [],
   "source": []
  }
 ],
 "metadata": {
  "kernelspec": {
   "display_name": "Python 3",
   "language": "python",
   "name": "python3"
  },
  "language_info": {
   "codemirror_mode": {
    "name": "ipython",
    "version": 3
   },
   "file_extension": ".py",
   "mimetype": "text/x-python",
   "name": "python",
   "nbconvert_exporter": "python",
   "pygments_lexer": "ipython3",
   "version": "3.7.5"
  }
 },
 "nbformat": 4,
 "nbformat_minor": 2
}

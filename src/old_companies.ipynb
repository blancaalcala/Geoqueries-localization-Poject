{
 "cells": [
  {
   "cell_type": "code",
   "execution_count": 3,
   "metadata": {},
   "outputs": [],
   "source": [
    "import location_functions as L\n",
    "import mongo\n",
    "\n",
    "import os\n",
    "from dotenv import load_dotenv\n",
    "load_dotenv()\n",
    "\n",
    "dbName = 'companies'\n",
    "\n",
    "db, boston = mongo.connectCollection(dbName,'companies')\n",
    "db, old_comp = mongo.connectCollection(dbName,'old_comp')\n"
   ]
  },
  {
   "cell_type": "markdown",
   "metadata": {},
   "source": [
    "1. Encontramos todas las empresas con oficinas en Boston, MA  \n",
    "2. Estas empresas deben seguir existiendo (deadpooled==None)  \n",
    "3. Bebemos saber el año en el que fueron fundadas (founded_year==exists)   \n",
    "4. Filtramos por el año en el que fueron fundadas (no mas de 10 años)  \n",
    "5. Separamos las empresas en sus distintas oficinas \n",
    "6. Creamos una nueva coleccion en mongodb (old_comp) e introducimos la posicion\n"
   ]
  },
  {
   "cell_type": "code",
   "execution_count": 4,
   "metadata": {},
   "outputs": [],
   "source": [
    "boston_old = list(boston.find({\"$and\":[{\"offices.city\":\"Boston\"},\n",
    "                                        {\"deadpooled_year\":None},\n",
    "                                        {\"founded_year\":{\"$exists\":True}}]}))\n",
    "\n",
    "\n",
    "for y in boston_old:\n",
    "    if y[\"founded_year\"]==None or y[\"founded_year\"]>2009:\n",
    "        pass\n",
    "    else:\n",
    "        for of in range(len(y[\"offices\"])):\n",
    "            if y[\"offices\"][of][\"city\"]==\"Boston\":\n",
    "                db.old_comp.insert_one(\n",
    "                {\"name\":y[\"name\"],\"homepage_url\":y[\"homepage_url\"],\"category_code\":y[\"category_code\"],\n",
    "                \"number_of_employees\":y[\"number_of_employees\"],\"founded_year\":y[\"founded_year\"],\n",
    "                \"total_money_raised\":y[\"total_money_raised\"],\"offices\":y[\"offices\"][of]})\n",
    "        \n",
    "L.setLocation(old_comp)"
   ]
  }
 ],
 "metadata": {
  "kernelspec": {
   "display_name": "Python 3",
   "language": "python",
   "name": "python3"
  },
  "language_info": {
   "codemirror_mode": {
    "name": "ipython",
    "version": 3
   },
   "file_extension": ".py",
   "mimetype": "text/x-python",
   "name": "python",
   "nbconvert_exporter": "python",
   "pygments_lexer": "ipython3",
   "version": "3.7.5"
  }
 },
 "nbformat": 4,
 "nbformat_minor": 2
}

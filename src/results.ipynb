{
 "cells": [
  {
   "cell_type": "code",
   "execution_count": 1,
   "metadata": {},
   "outputs": [],
   "source": [
    "%store -r city_coord\n",
    "%store -r air_coord\n",
    "%store -r office_info\n",
    "%store -r office_coords\n",
    "%store -r of_size\n",
    "%store -r of_ref\n",
    "\n",
    "import mapping_functions as M\n",
    "import ranking_functions as R\n",
    "import location_functions as L\n",
    "import mongo\n",
    "\n",
    "import pandas as pd\n",
    "from IPython.display import HTML\n",
    "\n",
    "\n",
    "dbName = 'companies'\n",
    "\n",
    "db,start = mongo.connectCollection(dbName,'startups')\n",
    "db,old_comp = mongo.connectCollection(dbName,'old_comp')\n",
    "db,starbucks = mongo.connectCollection(dbName,'starbucks')\n",
    "db,schools = mongo.connectCollection(dbName,'schools')\n",
    "db,night = mongo.connectCollection(dbName,'night')\n",
    "db,vegan = mongo.connectCollection(dbName,'vegan')"
   ]
  },
  {
   "cell_type": "code",
   "execution_count": 2,
   "metadata": {},
   "outputs": [],
   "source": [
    "names = [\"Old companies\",\"Starbucks\",\"Night bars\",\"Schools\",\"Startups\",\"Vegan restaurant\",\"Airport\",\"Offices\"]  \n",
    "collections = [old_comp,starbucks,night,schools,start,vegan]\n",
    "colors = [\"red\",\"darkgreen\",\"purple\",\"lightblue\",\"green\",\"orange\"]"
   ]
  },
  {
   "cell_type": "code",
   "execution_count": 3,
   "metadata": {},
   "outputs": [],
   "source": [
    "M.mapResults(city_coord,13,names,colors,collections,air_coord,office_coords,\"initial_map\")"
   ]
  },
  {
   "cell_type": "code",
   "execution_count": 4,
   "metadata": {},
   "outputs": [
    {
     "name": "stdout",
     "output_type": "stream",
     "text": [
      "Introduce the weight of Old companies (1-5): 4\n",
      "Introduce the weight of Starbucks (1-5): 5\n",
      "Introduce the weight of Night bars (1-5): 4\n",
      "Introduce the weight of Schools (1-5): 3\n",
      "Introduce the weight of Startups (1-5): 4\n",
      "Introduce the weight of Vegan restaurant (1-5): 2\n"
     ]
    }
   ],
   "source": [
    "weight = []\n",
    "for n in names[:6]:\n",
    "    weight.append(int(input(f\"Introduce the weight of {n} (1-5): \")))"
   ]
  },
  {
   "cell_type": "code",
   "execution_count": 5,
   "metadata": {},
   "outputs": [],
   "source": [
    "points,adresses,air_dist = R.pointsFunction(collections,office_coords,office_info,air_coord,weight)"
   ]
  },
  {
   "cell_type": "markdown",
   "metadata": {},
   "source": [
    "Creamos un nuevo Dataframe con la informacion a cerca de cada una de las oficinas donde podriamos potencialmente colocar la empresa:\n",
    "    - Direccion\n",
    "    - Tamaño de la oficina\n",
    "    - Puntuacion en el ranking total\n",
    "    - Distancia a startups, starbucks, compañias antiguas, aeropuerto, colegios y bares mas cercanos\n",
    "    - Coordenadas\n",
    "    - Referencia"
   ]
  },
  {
   "cell_type": "code",
   "execution_count": 6,
   "metadata": {},
   "outputs": [],
   "source": [
    "url_1 = \"https://42floors.com/\"\n",
    "\n",
    "df_offices = pd.DataFrame(columns=['Adress','Square Feet','Punctuation','Startups','Starbucks',\n",
    "                                   'Old companies','Schools','Night bars','Vegan Rest','Airport','Location','Reference'])\n",
    " \n",
    "for index in range(len(points)):\n",
    "    total = sum(points[index][1:])-points[index][0]\n",
    "    df_offices = df_offices.append({'Adress':adresses[index],'Punctuation':total,\n",
    "                                    'Starbucks':points[index][1],'Schools':points[index][3],'Startups':points[index][4],\n",
    "                                    'Old companies':-points[index][0],'Night bars':points[index][2],\n",
    "                                    'Square Feet':of_size[index],'Location':office_coords[index],\n",
    "                                   'Reference':url_1+of_ref[index],'Airport':air_dist[index],'Vegan Rest':points[index][5]},ignore_index=True)"
   ]
  },
  {
   "cell_type": "code",
   "execution_count": 7,
   "metadata": {},
   "outputs": [
    {
     "data": {
      "text/html": [
       "<div>\n",
       "<style scoped>\n",
       "    .dataframe tbody tr th:only-of-type {\n",
       "        vertical-align: middle;\n",
       "    }\n",
       "\n",
       "    .dataframe tbody tr th {\n",
       "        vertical-align: top;\n",
       "    }\n",
       "\n",
       "    .dataframe thead th {\n",
       "        text-align: right;\n",
       "    }\n",
       "</style>\n",
       "<table border=\"1\" class=\"dataframe\">\n",
       "  <thead>\n",
       "    <tr style=\"text-align: right;\">\n",
       "      <th></th>\n",
       "      <th>Adress</th>\n",
       "      <th>Square Feet</th>\n",
       "      <th>Punctuation</th>\n",
       "      <th>Startups</th>\n",
       "      <th>Starbucks</th>\n",
       "      <th>Old companies</th>\n",
       "      <th>Schools</th>\n",
       "      <th>Night bars</th>\n",
       "      <th>Vegan Rest</th>\n",
       "      <th>Airport</th>\n",
       "      <th>Location</th>\n",
       "      <th>Reference</th>\n",
       "    </tr>\n",
       "  </thead>\n",
       "  <tbody>\n",
       "    <tr>\n",
       "      <th>0</th>\n",
       "      <td>40 Court St, Boston, MA 02108, USA</td>\n",
       "      <td>4,000</td>\n",
       "      <td>29.00</td>\n",
       "      <td>10.0</td>\n",
       "      <td>12.50</td>\n",
       "      <td>-10.0</td>\n",
       "      <td>1.50</td>\n",
       "      <td>10.0</td>\n",
       "      <td>5.0</td>\n",
       "      <td>4.16538866183103 km</td>\n",
       "      <td>[-71.0592945, 42.3588496]</td>\n",
       "      <td>https://42floors.com//us/ma/boston/40-court-st...</td>\n",
       "    </tr>\n",
       "    <tr>\n",
       "      <th>1</th>\n",
       "      <td>30 Kneeland St, Boston, MA 02111, USA</td>\n",
       "      <td>880</td>\n",
       "      <td>27.50</td>\n",
       "      <td>8.0</td>\n",
       "      <td>10.00</td>\n",
       "      <td>-9.0</td>\n",
       "      <td>4.50</td>\n",
       "      <td>9.0</td>\n",
       "      <td>5.0</td>\n",
       "      <td>4.6111167651759235 km</td>\n",
       "      <td>[-71.06187899999999, 42.3508642]</td>\n",
       "      <td>https://42floors.com//us/ma/boston/30-kneeland...</td>\n",
       "    </tr>\n",
       "    <tr>\n",
       "      <th>2</th>\n",
       "      <td>201 Washington St, Boston, MA 02108, USA</td>\n",
       "      <td>5,980</td>\n",
       "      <td>27.50</td>\n",
       "      <td>9.0</td>\n",
       "      <td>12.50</td>\n",
       "      <td>-10.0</td>\n",
       "      <td>1.50</td>\n",
       "      <td>10.0</td>\n",
       "      <td>4.5</td>\n",
       "      <td>4.091570572360885 km</td>\n",
       "      <td>[-71.058315, 42.3585846]</td>\n",
       "      <td>https://42floors.com//us/ma/boston/1-boston-pl...</td>\n",
       "    </tr>\n",
       "    <tr>\n",
       "      <th>3</th>\n",
       "      <td>5 Broad St, Boston, MA 02110, USA</td>\n",
       "      <td>11,050</td>\n",
       "      <td>27.25</td>\n",
       "      <td>9.0</td>\n",
       "      <td>12.50</td>\n",
       "      <td>-9.0</td>\n",
       "      <td>2.25</td>\n",
       "      <td>9.0</td>\n",
       "      <td>3.5</td>\n",
       "      <td>3.8058028687439767 km</td>\n",
       "      <td>[-71.0548501, 42.3588513]</td>\n",
       "      <td>https://42floors.com//us/ma/boston/75-state-st...</td>\n",
       "    </tr>\n",
       "    <tr>\n",
       "      <th>4</th>\n",
       "      <td>38 Chauncy St, Boston, MA 02111, USA</td>\n",
       "      <td>6,560</td>\n",
       "      <td>27.00</td>\n",
       "      <td>10.0</td>\n",
       "      <td>11.25</td>\n",
       "      <td>-10.0</td>\n",
       "      <td>2.25</td>\n",
       "      <td>10.0</td>\n",
       "      <td>3.5</td>\n",
       "      <td>4.329325472475174 km</td>\n",
       "      <td>[-71.059648, 42.3538195]</td>\n",
       "      <td>https://42floors.com//us/ma/boston/38-chauncy-...</td>\n",
       "    </tr>\n",
       "    <tr>\n",
       "      <th>...</th>\n",
       "      <td>...</td>\n",
       "      <td>...</td>\n",
       "      <td>...</td>\n",
       "      <td>...</td>\n",
       "      <td>...</td>\n",
       "      <td>...</td>\n",
       "      <td>...</td>\n",
       "      <td>...</td>\n",
       "      <td>...</td>\n",
       "      <td>...</td>\n",
       "      <td>...</td>\n",
       "      <td>...</td>\n",
       "    </tr>\n",
       "    <tr>\n",
       "      <th>63</th>\n",
       "      <td>70 Franklin St, New York, NY 10013, USA</td>\n",
       "      <td>10,050 - 11,430</td>\n",
       "      <td>0.00</td>\n",
       "      <td>0.0</td>\n",
       "      <td>0.00</td>\n",
       "      <td>-0.0</td>\n",
       "      <td>0.00</td>\n",
       "      <td>0.0</td>\n",
       "      <td>0.0</td>\n",
       "      <td>309.6816058391006 km</td>\n",
       "      <td>[-74.004108, 40.7179659]</td>\n",
       "      <td>https://42floors.com//us/ma/boston/70-franklin...</td>\n",
       "    </tr>\n",
       "    <tr>\n",
       "      <th>64</th>\n",
       "      <td>41 Winter St, Kingston, MA 02364, USA</td>\n",
       "      <td>4,100</td>\n",
       "      <td>0.00</td>\n",
       "      <td>0.0</td>\n",
       "      <td>0.00</td>\n",
       "      <td>-0.0</td>\n",
       "      <td>0.00</td>\n",
       "      <td>0.0</td>\n",
       "      <td>0.0</td>\n",
       "      <td>43.9976810239303 km</td>\n",
       "      <td>[-70.7503739, 42.0195674]</td>\n",
       "      <td>https://42floors.com//us/ma/boston/41-winter-s...</td>\n",
       "    </tr>\n",
       "    <tr>\n",
       "      <th>65</th>\n",
       "      <td>37 Charles St, New York, NY 10014, USA</td>\n",
       "      <td>880</td>\n",
       "      <td>0.00</td>\n",
       "      <td>0.0</td>\n",
       "      <td>0.00</td>\n",
       "      <td>-0.0</td>\n",
       "      <td>0.00</td>\n",
       "      <td>0.0</td>\n",
       "      <td>0.0</td>\n",
       "      <td>308.441410835834 km</td>\n",
       "      <td>[-74.0027379, 40.73511389999999]</td>\n",
       "      <td>https://42floors.com//us/ma/boston/37-charles-...</td>\n",
       "    </tr>\n",
       "    <tr>\n",
       "      <th>66</th>\n",
       "      <td>345 Carroll St, Brooklyn, NY 11231, USA</td>\n",
       "      <td>6,800</td>\n",
       "      <td>0.00</td>\n",
       "      <td>0.0</td>\n",
       "      <td>0.00</td>\n",
       "      <td>-0.0</td>\n",
       "      <td>0.00</td>\n",
       "      <td>0.0</td>\n",
       "      <td>0.0</td>\n",
       "      <td>311.43017459278934 km</td>\n",
       "      <td>[-73.9910116, 40.67919089999999]</td>\n",
       "      <td>https://42floors.com//us/ma/boston/345-a-st?li...</td>\n",
       "    </tr>\n",
       "    <tr>\n",
       "      <th>67</th>\n",
       "      <td>333 Newbury St #335, Springfield, MA 01104, USA</td>\n",
       "      <td>3,100 - 4,010</td>\n",
       "      <td>0.00</td>\n",
       "      <td>0.0</td>\n",
       "      <td>0.00</td>\n",
       "      <td>-0.0</td>\n",
       "      <td>0.00</td>\n",
       "      <td>0.0</td>\n",
       "      <td>0.0</td>\n",
       "      <td>132.18482077888294 km</td>\n",
       "      <td>[-72.5785126, 42.1263255]</td>\n",
       "      <td>https://42floors.com//us/ma/boston/333-newbury...</td>\n",
       "    </tr>\n",
       "  </tbody>\n",
       "</table>\n",
       "<p>68 rows × 12 columns</p>\n",
       "</div>"
      ],
      "text/plain": [
       "                                             Adress      Square Feet  \\\n",
       "0                40 Court St, Boston, MA 02108, USA            4,000   \n",
       "1             30 Kneeland St, Boston, MA 02111, USA              880   \n",
       "2          201 Washington St, Boston, MA 02108, USA            5,980   \n",
       "3                 5 Broad St, Boston, MA 02110, USA           11,050   \n",
       "4              38 Chauncy St, Boston, MA 02111, USA            6,560   \n",
       "..                                              ...              ...   \n",
       "63          70 Franklin St, New York, NY 10013, USA  10,050 - 11,430   \n",
       "64            41 Winter St, Kingston, MA 02364, USA            4,100   \n",
       "65           37 Charles St, New York, NY 10014, USA              880   \n",
       "66          345 Carroll St, Brooklyn, NY 11231, USA            6,800   \n",
       "67  333 Newbury St #335, Springfield, MA 01104, USA    3,100 - 4,010   \n",
       "\n",
       "    Punctuation  Startups  Starbucks  Old companies  Schools  Night bars  \\\n",
       "0         29.00      10.0      12.50          -10.0     1.50        10.0   \n",
       "1         27.50       8.0      10.00           -9.0     4.50         9.0   \n",
       "2         27.50       9.0      12.50          -10.0     1.50        10.0   \n",
       "3         27.25       9.0      12.50           -9.0     2.25         9.0   \n",
       "4         27.00      10.0      11.25          -10.0     2.25        10.0   \n",
       "..          ...       ...        ...            ...      ...         ...   \n",
       "63         0.00       0.0       0.00           -0.0     0.00         0.0   \n",
       "64         0.00       0.0       0.00           -0.0     0.00         0.0   \n",
       "65         0.00       0.0       0.00           -0.0     0.00         0.0   \n",
       "66         0.00       0.0       0.00           -0.0     0.00         0.0   \n",
       "67         0.00       0.0       0.00           -0.0     0.00         0.0   \n",
       "\n",
       "    Vegan Rest                Airport                          Location  \\\n",
       "0          5.0    4.16538866183103 km         [-71.0592945, 42.3588496]   \n",
       "1          5.0  4.6111167651759235 km  [-71.06187899999999, 42.3508642]   \n",
       "2          4.5   4.091570572360885 km          [-71.058315, 42.3585846]   \n",
       "3          3.5  3.8058028687439767 km         [-71.0548501, 42.3588513]   \n",
       "4          3.5   4.329325472475174 km          [-71.059648, 42.3538195]   \n",
       "..         ...                    ...                               ...   \n",
       "63         0.0   309.6816058391006 km          [-74.004108, 40.7179659]   \n",
       "64         0.0    43.9976810239303 km         [-70.7503739, 42.0195674]   \n",
       "65         0.0    308.441410835834 km  [-74.0027379, 40.73511389999999]   \n",
       "66         0.0  311.43017459278934 km  [-73.9910116, 40.67919089999999]   \n",
       "67         0.0  132.18482077888294 km         [-72.5785126, 42.1263255]   \n",
       "\n",
       "                                            Reference  \n",
       "0   https://42floors.com//us/ma/boston/40-court-st...  \n",
       "1   https://42floors.com//us/ma/boston/30-kneeland...  \n",
       "2   https://42floors.com//us/ma/boston/1-boston-pl...  \n",
       "3   https://42floors.com//us/ma/boston/75-state-st...  \n",
       "4   https://42floors.com//us/ma/boston/38-chauncy-...  \n",
       "..                                                ...  \n",
       "63  https://42floors.com//us/ma/boston/70-franklin...  \n",
       "64  https://42floors.com//us/ma/boston/41-winter-s...  \n",
       "65  https://42floors.com//us/ma/boston/37-charles-...  \n",
       "66  https://42floors.com//us/ma/boston/345-a-st?li...  \n",
       "67  https://42floors.com//us/ma/boston/333-newbury...  \n",
       "\n",
       "[68 rows x 12 columns]"
      ]
     },
     "execution_count": 7,
     "metadata": {},
     "output_type": "execute_result"
    }
   ],
   "source": [
    "df = df_offices.sort_values(by=['Punctuation'],ascending=False)\n",
    "df.to_csv('../output/office-location.csv')\n",
    "df = df.reset_index(drop=True)\n",
    "df"
   ]
  },
  {
   "cell_type": "code",
   "execution_count": 8,
   "metadata": {},
   "outputs": [
    {
     "name": "stdout",
     "output_type": "stream",
     "text": [
      "Introduce the index of the office you want:0\n"
     ]
    }
   ],
   "source": [
    "coordinates = int(input(\"Introduce the index of the office you want:\" ))\n",
    "selected_office = df[\"Location\"].iloc[coordinates][::-1]"
   ]
  },
  {
   "cell_type": "code",
   "execution_count": 9,
   "metadata": {},
   "outputs": [],
   "source": [
    "M.mapResults(selected_office,16,names,colors,collections,air_coord,selected_office,\"final_map\")"
   ]
  },
  {
   "cell_type": "code",
   "execution_count": 10,
   "metadata": {},
   "outputs": [
    {
     "name": "stdout",
     "output_type": "stream",
     "text": [
      "Do you want to see a map? (press enter to exit)d\n",
      "Which map do you want to see? (initial_map / final_map): final_map\n"
     ]
    },
    {
     "name": "stderr",
     "output_type": "stream",
     "text": [
      "/usr/local/Cellar/ipython/7.7.0/libexec/lib/python3.7/site-packages/IPython/core/display.py:694: UserWarning: Consider using IPython.display.IFrame instead\n",
      "  warnings.warn(\"Consider using IPython.display.IFrame instead\")\n"
     ]
    },
    {
     "data": {
      "text/html": [
       "<iframe src=../output/final_map.html width=700 height=450></iframe>"
      ],
      "text/plain": [
       "<IPython.core.display.HTML object>"
      ]
     },
     "metadata": {},
     "output_type": "display_data"
    },
    {
     "name": "stdout",
     "output_type": "stream",
     "text": [
      "Do you want to see another map? (press enter to exit)\n"
     ]
    }
   ],
   "source": [
    "M.mappingChoice()"
   ]
  },
  {
   "cell_type": "code",
   "execution_count": null,
   "metadata": {},
   "outputs": [],
   "source": []
  }
 ],
 "metadata": {
  "kernelspec": {
   "display_name": "Python 3",
   "language": "python",
   "name": "python3"
  },
  "language_info": {
   "codemirror_mode": {
    "name": "ipython",
    "version": 3
   },
   "file_extension": ".py",
   "mimetype": "text/x-python",
   "name": "python",
   "nbconvert_exporter": "python",
   "pygments_lexer": "ipython3",
   "version": "3.7.5"
  }
 },
 "nbformat": 4,
 "nbformat_minor": 2
}

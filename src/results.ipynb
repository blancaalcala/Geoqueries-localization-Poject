{
 "cells": [
  {
   "cell_type": "code",
   "execution_count": 21,
   "metadata": {},
   "outputs": [],
   "source": [
    "%store -r city_coord\n",
    "%store -r air_coord\n",
    "%store -r office_info\n",
    "%store -r office_coords\n",
    "%store -r of_size\n",
    "%store -r of_ref\n",
    "\n",
    "import mapping_functions as M\n",
    "import ranking_functions as R\n",
    "import location_functions as L\n",
    "import mongo\n",
    "\n",
    "import pandas as pd\n",
    "from IPython.display import HTML\n",
    "\n",
    "\n",
    "dbName = 'companies'\n",
    "\n",
    "db,start = mongo.connectCollection(dbName,'startups')\n",
    "db,old_comp = mongo.connectCollection(dbName,'old_comp')\n",
    "db,starbucks = mongo.connectCollection(dbName,'starbucks')\n",
    "db,schools = mongo.connectCollection(dbName,'schools')\n",
    "db,night = mongo.connectCollection(dbName,'night')\n",
    "db,vegan = mongo.connectCollection(dbName,'vegan')"
   ]
  },
  {
   "cell_type": "code",
   "execution_count": 22,
   "metadata": {},
   "outputs": [],
   "source": [
    "names = [\"Old companies\",\"Starbucks\",\"Night bars\",\"Schools\",\"Startups\",\"Vegan restaurant\",\"Airport\",\"Offices\"]  \n",
    "collections = [old_comp,starbucks,night,schools,start,vegan]\n",
    "colors = [\"red\",\"darkgreen\",\"purple\",\"lightblue\",\"green\",\"orange\"]"
   ]
  },
  {
   "cell_type": "code",
   "execution_count": 23,
   "metadata": {},
   "outputs": [],
   "source": [
    "M.mapResults(city_coord,13,names,colors,collections,air_coord,office_coords,\"initial_map\")"
   ]
  },
  {
   "cell_type": "code",
   "execution_count": 24,
   "metadata": {},
   "outputs": [
    {
     "name": "stdout",
     "output_type": "stream",
     "text": [
      "Introduce the weight of Old companies (1-5): 5\n",
      "Introduce the weight of Starbucks (1-5): 4\n",
      "Introduce the weight of Night bars (1-5): 3\n",
      "Introduce the weight of Schools (1-5): 2\n",
      "Introduce the weight of Startups (1-5): 4\n",
      "Introduce the weight of Vegan restaurant (1-5): 1\n"
     ]
    }
   ],
   "source": [
    "weight = []\n",
    "for n in names[:6]:\n",
    "    weight.append(int(input(f\"Introduce the weight of {n} (1-5): \")))"
   ]
  },
  {
   "cell_type": "code",
   "execution_count": 25,
   "metadata": {},
   "outputs": [],
   "source": [
    "points,adresses,air_dist = R.pointsFunction(collections,office_coords,office_info,air_coord,weight)"
   ]
  },
  {
   "cell_type": "markdown",
   "metadata": {},
   "source": [
    "Creamos un nuevo Dataframe con la informacion a cerca de cada una de las oficinas donde podriamos potencialmente colocar la empresa:\n",
    "    - Direccion\n",
    "    - Tamaño de la oficina\n",
    "    - Puntuacion en el ranking total\n",
    "    - Distancia a startups, starbucks, compañias antiguas, aeropuerto, colegios y bares mas cercanos\n",
    "    - Coordenadas\n",
    "    - Referencia"
   ]
  },
  {
   "cell_type": "code",
   "execution_count": 26,
   "metadata": {},
   "outputs": [],
   "source": [
    "url_1 = \"https://42floors.com/\"\n",
    "\n",
    "df_offices = pd.DataFrame(columns=['Adress','Square Feet','Punctuation','Startups','Starbucks',\n",
    "                                   'Old companies','Schools','Night bars','Vegan Rest','Airport','Location','Reference'])\n",
    " \n",
    "for index in range(len(points)):\n",
    "    total = sum(points[index][1:])-points[index][0]\n",
    "    df_offices = df_offices.append({'Adress':adresses[index],'Punctuation':total,\n",
    "                                    'Starbucks':points[index][1],'Schools':points[index][3],'Startups':points[index][4],\n",
    "                                    'Old companies':-points[index][0],'Night bars':points[index][2],\n",
    "                                    'Square Feet':of_size[index],'Location':office_coords[index],\n",
    "                                   'Reference':url_1+of_ref[index],'Airport':air_dist[index],'Vegan Rest':points[index][5]},ignore_index=True)"
   ]
  },
  {
   "cell_type": "code",
   "execution_count": 27,
   "metadata": {},
   "outputs": [
    {
     "data": {
      "text/html": [
       "<div>\n",
       "<style scoped>\n",
       "    .dataframe tbody tr th:only-of-type {\n",
       "        vertical-align: middle;\n",
       "    }\n",
       "\n",
       "    .dataframe tbody tr th {\n",
       "        vertical-align: top;\n",
       "    }\n",
       "\n",
       "    .dataframe thead th {\n",
       "        text-align: right;\n",
       "    }\n",
       "</style>\n",
       "<table border=\"1\" class=\"dataframe\">\n",
       "  <thead>\n",
       "    <tr style=\"text-align: right;\">\n",
       "      <th></th>\n",
       "      <th>Adress</th>\n",
       "      <th>Square Feet</th>\n",
       "      <th>Punctuation</th>\n",
       "      <th>Startups</th>\n",
       "      <th>Starbucks</th>\n",
       "      <th>Old companies</th>\n",
       "      <th>Schools</th>\n",
       "      <th>Night bars</th>\n",
       "      <th>Vegan Rest</th>\n",
       "      <th>Airport</th>\n",
       "      <th>Location</th>\n",
       "      <th>Reference</th>\n",
       "    </tr>\n",
       "  </thead>\n",
       "  <tbody>\n",
       "    <tr>\n",
       "      <th>0</th>\n",
       "      <td>255 State St, Boston, MA 02109, USA</td>\n",
       "      <td>19,940</td>\n",
       "      <td>18.75</td>\n",
       "      <td>9.0</td>\n",
       "      <td>10.0</td>\n",
       "      <td>-8.75</td>\n",
       "      <td>1.5</td>\n",
       "      <td>6.00</td>\n",
       "      <td>1.00</td>\n",
       "      <td>3.511837054493131 km</td>\n",
       "      <td>[-71.0513553, 42.3593857]</td>\n",
       "      <td>https://42floors.com//us/ma/boston/255-state-s...</td>\n",
       "    </tr>\n",
       "    <tr>\n",
       "      <th>1</th>\n",
       "      <td>40 Court St, Boston, MA 02108, USA</td>\n",
       "      <td>4,000</td>\n",
       "      <td>18.50</td>\n",
       "      <td>10.0</td>\n",
       "      <td>10.0</td>\n",
       "      <td>-12.50</td>\n",
       "      <td>1.0</td>\n",
       "      <td>7.50</td>\n",
       "      <td>2.50</td>\n",
       "      <td>4.16538866183103 km</td>\n",
       "      <td>[-71.0592945, 42.3588496]</td>\n",
       "      <td>https://42floors.com//us/ma/boston/40-court-st...</td>\n",
       "    </tr>\n",
       "    <tr>\n",
       "      <th>2</th>\n",
       "      <td>5 Broad St, Boston, MA 02110, USA</td>\n",
       "      <td>11,050</td>\n",
       "      <td>17.75</td>\n",
       "      <td>9.0</td>\n",
       "      <td>10.0</td>\n",
       "      <td>-11.25</td>\n",
       "      <td>1.5</td>\n",
       "      <td>6.75</td>\n",
       "      <td>1.75</td>\n",
       "      <td>3.8058028687439767 km</td>\n",
       "      <td>[-71.0548501, 42.3588513]</td>\n",
       "      <td>https://42floors.com//us/ma/boston/75-state-st...</td>\n",
       "    </tr>\n",
       "    <tr>\n",
       "      <th>3</th>\n",
       "      <td>38 Chauncy St, Boston, MA 02111, USA</td>\n",
       "      <td>6,560</td>\n",
       "      <td>17.25</td>\n",
       "      <td>10.0</td>\n",
       "      <td>9.0</td>\n",
       "      <td>-12.50</td>\n",
       "      <td>1.5</td>\n",
       "      <td>7.50</td>\n",
       "      <td>1.75</td>\n",
       "      <td>4.329325472475174 km</td>\n",
       "      <td>[-71.059648, 42.3538195]</td>\n",
       "      <td>https://42floors.com//us/ma/boston/38-chauncy-...</td>\n",
       "    </tr>\n",
       "    <tr>\n",
       "      <th>4</th>\n",
       "      <td>201 Washington St, Boston, MA 02108, USA</td>\n",
       "      <td>5,980</td>\n",
       "      <td>17.25</td>\n",
       "      <td>9.0</td>\n",
       "      <td>10.0</td>\n",
       "      <td>-12.50</td>\n",
       "      <td>1.0</td>\n",
       "      <td>7.50</td>\n",
       "      <td>2.25</td>\n",
       "      <td>4.091570572360885 km</td>\n",
       "      <td>[-71.058315, 42.3585846]</td>\n",
       "      <td>https://42floors.com//us/ma/boston/1-boston-pl...</td>\n",
       "    </tr>\n",
       "    <tr>\n",
       "      <th>...</th>\n",
       "      <td>...</td>\n",
       "      <td>...</td>\n",
       "      <td>...</td>\n",
       "      <td>...</td>\n",
       "      <td>...</td>\n",
       "      <td>...</td>\n",
       "      <td>...</td>\n",
       "      <td>...</td>\n",
       "      <td>...</td>\n",
       "      <td>...</td>\n",
       "      <td>...</td>\n",
       "      <td>...</td>\n",
       "    </tr>\n",
       "    <tr>\n",
       "      <th>63</th>\n",
       "      <td>1 State St, New York, NY 10004, USA</td>\n",
       "      <td>2,040 - 4,600</td>\n",
       "      <td>0.00</td>\n",
       "      <td>0.0</td>\n",
       "      <td>0.0</td>\n",
       "      <td>-0.00</td>\n",
       "      <td>0.0</td>\n",
       "      <td>0.00</td>\n",
       "      <td>0.00</td>\n",
       "      <td>311.3277854543317 km</td>\n",
       "      <td>[-74.0133207, 40.702703]</td>\n",
       "      <td>https://42floors.com//us/ma/boston/1-state-st?...</td>\n",
       "    </tr>\n",
       "    <tr>\n",
       "      <th>64</th>\n",
       "      <td>207 South St, Elmhurst, IL 60126, USA</td>\n",
       "      <td>3,890</td>\n",
       "      <td>0.00</td>\n",
       "      <td>0.0</td>\n",
       "      <td>0.0</td>\n",
       "      <td>-0.00</td>\n",
       "      <td>0.0</td>\n",
       "      <td>0.00</td>\n",
       "      <td>0.00</td>\n",
       "      <td>1398.1919354859465 km</td>\n",
       "      <td>[-87.93459089999999, 41.8857483]</td>\n",
       "      <td>https://42floors.com//us/ma/boston/207-south-s...</td>\n",
       "    </tr>\n",
       "    <tr>\n",
       "      <th>65</th>\n",
       "      <td>41 Winter St, Kingston, MA 02364, USA</td>\n",
       "      <td>4,100</td>\n",
       "      <td>0.00</td>\n",
       "      <td>0.0</td>\n",
       "      <td>0.0</td>\n",
       "      <td>-0.00</td>\n",
       "      <td>0.0</td>\n",
       "      <td>0.00</td>\n",
       "      <td>0.00</td>\n",
       "      <td>43.9976810239303 km</td>\n",
       "      <td>[-70.7503739, 42.0195674]</td>\n",
       "      <td>https://42floors.com//us/ma/boston/41-winter-s...</td>\n",
       "    </tr>\n",
       "    <tr>\n",
       "      <th>66</th>\n",
       "      <td>1 Liberty St, New York, NY 10006, USA</td>\n",
       "      <td>500</td>\n",
       "      <td>0.00</td>\n",
       "      <td>0.0</td>\n",
       "      <td>0.0</td>\n",
       "      <td>-0.00</td>\n",
       "      <td>0.0</td>\n",
       "      <td>0.00</td>\n",
       "      <td>0.00</td>\n",
       "      <td>310.6742635751509 km</td>\n",
       "      <td>[-74.01073939999999, 40.7098327]</td>\n",
       "      <td>https://42floors.com//us/ma/boston/1-liberty-s...</td>\n",
       "    </tr>\n",
       "    <tr>\n",
       "      <th>67</th>\n",
       "      <td>300 Congress St, Quincy, MA 02169, USA</td>\n",
       "      <td>10,600 - 10,770</td>\n",
       "      <td>0.00</td>\n",
       "      <td>0.0</td>\n",
       "      <td>0.0</td>\n",
       "      <td>-0.00</td>\n",
       "      <td>0.0</td>\n",
       "      <td>0.00</td>\n",
       "      <td>0.00</td>\n",
       "      <td>14.567636185360263 km</td>\n",
       "      <td>[-71.0150002, 42.2345289]</td>\n",
       "      <td>https://42floors.com//us/ma/boston/300-congres...</td>\n",
       "    </tr>\n",
       "  </tbody>\n",
       "</table>\n",
       "<p>68 rows × 12 columns</p>\n",
       "</div>"
      ],
      "text/plain": [
       "                                      Adress      Square Feet  Punctuation  \\\n",
       "0        255 State St, Boston, MA 02109, USA           19,940        18.75   \n",
       "1         40 Court St, Boston, MA 02108, USA            4,000        18.50   \n",
       "2          5 Broad St, Boston, MA 02110, USA           11,050        17.75   \n",
       "3       38 Chauncy St, Boston, MA 02111, USA            6,560        17.25   \n",
       "4   201 Washington St, Boston, MA 02108, USA            5,980        17.25   \n",
       "..                                       ...              ...          ...   \n",
       "63       1 State St, New York, NY 10004, USA    2,040 - 4,600         0.00   \n",
       "64     207 South St, Elmhurst, IL 60126, USA            3,890         0.00   \n",
       "65     41 Winter St, Kingston, MA 02364, USA            4,100         0.00   \n",
       "66     1 Liberty St, New York, NY 10006, USA              500         0.00   \n",
       "67    300 Congress St, Quincy, MA 02169, USA  10,600 - 10,770         0.00   \n",
       "\n",
       "    Startups  Starbucks  Old companies  Schools  Night bars  Vegan Rest  \\\n",
       "0        9.0       10.0          -8.75      1.5        6.00        1.00   \n",
       "1       10.0       10.0         -12.50      1.0        7.50        2.50   \n",
       "2        9.0       10.0         -11.25      1.5        6.75        1.75   \n",
       "3       10.0        9.0         -12.50      1.5        7.50        1.75   \n",
       "4        9.0       10.0         -12.50      1.0        7.50        2.25   \n",
       "..       ...        ...            ...      ...         ...         ...   \n",
       "63       0.0        0.0          -0.00      0.0        0.00        0.00   \n",
       "64       0.0        0.0          -0.00      0.0        0.00        0.00   \n",
       "65       0.0        0.0          -0.00      0.0        0.00        0.00   \n",
       "66       0.0        0.0          -0.00      0.0        0.00        0.00   \n",
       "67       0.0        0.0          -0.00      0.0        0.00        0.00   \n",
       "\n",
       "                  Airport                          Location  \\\n",
       "0    3.511837054493131 km         [-71.0513553, 42.3593857]   \n",
       "1     4.16538866183103 km         [-71.0592945, 42.3588496]   \n",
       "2   3.8058028687439767 km         [-71.0548501, 42.3588513]   \n",
       "3    4.329325472475174 km          [-71.059648, 42.3538195]   \n",
       "4    4.091570572360885 km          [-71.058315, 42.3585846]   \n",
       "..                    ...                               ...   \n",
       "63   311.3277854543317 km          [-74.0133207, 40.702703]   \n",
       "64  1398.1919354859465 km  [-87.93459089999999, 41.8857483]   \n",
       "65    43.9976810239303 km         [-70.7503739, 42.0195674]   \n",
       "66   310.6742635751509 km  [-74.01073939999999, 40.7098327]   \n",
       "67  14.567636185360263 km         [-71.0150002, 42.2345289]   \n",
       "\n",
       "                                            Reference  \n",
       "0   https://42floors.com//us/ma/boston/255-state-s...  \n",
       "1   https://42floors.com//us/ma/boston/40-court-st...  \n",
       "2   https://42floors.com//us/ma/boston/75-state-st...  \n",
       "3   https://42floors.com//us/ma/boston/38-chauncy-...  \n",
       "4   https://42floors.com//us/ma/boston/1-boston-pl...  \n",
       "..                                                ...  \n",
       "63  https://42floors.com//us/ma/boston/1-state-st?...  \n",
       "64  https://42floors.com//us/ma/boston/207-south-s...  \n",
       "65  https://42floors.com//us/ma/boston/41-winter-s...  \n",
       "66  https://42floors.com//us/ma/boston/1-liberty-s...  \n",
       "67  https://42floors.com//us/ma/boston/300-congres...  \n",
       "\n",
       "[68 rows x 12 columns]"
      ]
     },
     "execution_count": 27,
     "metadata": {},
     "output_type": "execute_result"
    }
   ],
   "source": [
    "df = df_offices.sort_values(by=['Punctuation'],ascending=False)\n",
    "df.to_csv('../output/office-location.csv')\n",
    "df = df.reset_index(drop=True)\n",
    "df"
   ]
  },
  {
   "cell_type": "code",
   "execution_count": 28,
   "metadata": {},
   "outputs": [
    {
     "name": "stdout",
     "output_type": "stream",
     "text": [
      "Introduce the index of the office you want:0\n"
     ]
    }
   ],
   "source": [
    "coordinates = int(input(\"Introduce the index of the office you want:\" ))\n",
    "selected_office = df[\"Location\"].iloc[coordinates][::-1]"
   ]
  },
  {
   "cell_type": "code",
   "execution_count": 29,
   "metadata": {},
   "outputs": [],
   "source": [
    "M.mapResults(selected_office,16,names,colors,collections,air_coord,selected_office,\"final_map\")"
   ]
  },
  {
   "cell_type": "code",
   "execution_count": 30,
   "metadata": {},
   "outputs": [
    {
     "name": "stdout",
     "output_type": "stream",
     "text": [
      "Do you want to see a map? (press enter to exit)y\n",
      "Which map do you want to see? (initial_map / final_map): final_map\n"
     ]
    },
    {
     "data": {
      "text/html": [
       "<iframe src=../output/final_map.html width=700 height=450></iframe>"
      ],
      "text/plain": [
       "<IPython.core.display.HTML object>"
      ]
     },
     "metadata": {},
     "output_type": "display_data"
    },
    {
     "name": "stdout",
     "output_type": "stream",
     "text": [
      "Do you want to see another map? (press enter to exit)\n"
     ]
    }
   ],
   "source": [
    "M.mappingChoice()"
   ]
  },
  {
   "cell_type": "code",
   "execution_count": null,
   "metadata": {},
   "outputs": [],
   "source": []
  }
 ],
 "metadata": {
  "kernelspec": {
   "display_name": "Python 3",
   "language": "python",
   "name": "python3"
  },
  "language_info": {
   "codemirror_mode": {
    "name": "ipython",
    "version": 3
   },
   "file_extension": ".py",
   "mimetype": "text/x-python",
   "name": "python",
   "nbconvert_exporter": "python",
   "pygments_lexer": "ipython3",
   "version": "3.7.5"
  }
 },
 "nbformat": 4,
 "nbformat_minor": 2
}

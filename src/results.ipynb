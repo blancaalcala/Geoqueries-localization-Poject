{
 "cells": [
  {
   "cell_type": "code",
   "execution_count": 1,
   "metadata": {},
   "outputs": [],
   "source": [
    "%store -r city_coord\n",
    "%store -r air_coord\n",
    "%store -r office_info\n",
    "%store -r office_coords\n",
    "%store -r of_size\n",
    "%store -r of_ref\n",
    "\n",
    "import mapping_functions as M\n",
    "import ranking_functions as R\n",
    "import location_functions as L\n",
    "\n",
    "import os\n",
    "import re\n",
    "import pandas as pd\n",
    "from dotenv import load_dotenv\n",
    "from pymongo import MongoClient\n",
    "from bs4 import BeautifulSoup\n",
    "import geocoder\n",
    "import requests\n",
    "import folium\n",
    "from folium.plugins import MousePosition\n",
    "from folium.plugins import Draw\n",
    "from geopy.distance import distance as getDistance\n",
    "from IPython.display import HTML\n",
    "load_dotenv()\n",
    "\n",
    "\n",
    "dbName = 'companies'\n",
    "\n",
    "db,start = L.connectCollection(dbName,'startups')\n",
    "db,old_comp = L.connectCollection(dbName,'old_comp')\n",
    "db,starbucks = L.connectCollection(dbName,'starbucks')\n",
    "db,schools = L.connectCollection(dbName,'schools')\n",
    "db,night = L.connectCollection(dbName,'night')\n",
    "db,vegan = L.connectCollection(dbName,'vegan')"
   ]
  },
  {
   "cell_type": "code",
   "execution_count": 2,
   "metadata": {},
   "outputs": [],
   "source": [
    "names = [\"Old companies\",\"Starbucks\",\"Night bars\",\"Schools\",\"Startups\",\"Vegan restaurant\",\"Airport\",\"Offices\"]  \n",
    "collections = [old_comp,starbucks,night,schools,start,vegan]\n",
    "colors = [\"red\",\"darkgreen\",\"purple\",\"lightblue\",\"green\",\"orange\"]"
   ]
  },
  {
   "cell_type": "code",
   "execution_count": 3,
   "metadata": {},
   "outputs": [],
   "source": [
    "M.mapResults(city_coord,13,names,colors,collections,air_coord,office_coords,\"initial_map\")"
   ]
  },
  {
   "cell_type": "code",
   "execution_count": 4,
   "metadata": {},
   "outputs": [
    {
     "name": "stdout",
     "output_type": "stream",
     "text": [
      "Introduce the weight of Old companies (1-5): 5\n",
      "Introduce the weight of Starbucks (1-5): 5\n",
      "Introduce the weight of Night bars (1-5): 5\n",
      "Introduce the weight of Schools (1-5): 5\n",
      "Introduce the weight of Startups (1-5): 5\n",
      "Introduce the weight of Vegan restaurant (1-5): 5\n"
     ]
    }
   ],
   "source": [
    "weight = []\n",
    "for n in names[:6]:\n",
    "    weight.append(int(input(f\"Introduce the weight of {n} (1-5): \")))"
   ]
  },
  {
   "cell_type": "code",
   "execution_count": 5,
   "metadata": {},
   "outputs": [],
   "source": [
    "points,adresses,air_dist = R.pointsFunction(collections,office_coords,office_info,air_coord,weight)"
   ]
  },
  {
   "cell_type": "markdown",
   "metadata": {},
   "source": [
    "Creamos un nuevo Dataframe con la informacion a cerca de cada una de las oficinas donde podriamos potencialmente colocar la empresa:\n",
    "    - Direccion\n",
    "    - Tamaño de la oficina\n",
    "    - Puntuacion en el ranking total\n",
    "    - Distancia a startups, starbucks, compañias antiguas, aeropuerto, colegios y bares mas cercanos\n",
    "    - Coordenadas\n",
    "    - Referencia"
   ]
  },
  {
   "cell_type": "code",
   "execution_count": 6,
   "metadata": {},
   "outputs": [],
   "source": [
    "url_1 = \"https://42floors.com/\"\n",
    "\n",
    "df_offices = pd.DataFrame(columns=['Adress','Square Feet','Punctuation','Startups','Starbucks',\n",
    "                                   'Old companies','Schools','Night bars','Vegan Rest','Airport','Location','Reference'])\n",
    " \n",
    "for index in range(len(points)):\n",
    "    total = sum(points[index][1:])-points[index][0]\n",
    "    df_offices = df_offices.append({'Adress':adresses[index],'Punctuation':total,\n",
    "                                    'Starbucks':points[index][1],'Schools':points[index][3],'Startups':points[index][4],\n",
    "                                    'Old companies':-points[index][0],'Night bars':points[index][2],\n",
    "                                    'Square Feet':of_size[index],'Location':office_coords[index],\n",
    "                                   'Reference':url_1+of_ref[index],'Airport':air_dist[index],'Vegan Rest':points[index][5]},ignore_index=True)"
   ]
  },
  {
   "cell_type": "code",
   "execution_count": 7,
   "metadata": {},
   "outputs": [
    {
     "data": {
      "text/html": [
       "<div>\n",
       "<style scoped>\n",
       "    .dataframe tbody tr th:only-of-type {\n",
       "        vertical-align: middle;\n",
       "    }\n",
       "\n",
       "    .dataframe tbody tr th {\n",
       "        vertical-align: top;\n",
       "    }\n",
       "\n",
       "    .dataframe thead th {\n",
       "        text-align: right;\n",
       "    }\n",
       "</style>\n",
       "<table border=\"1\" class=\"dataframe\">\n",
       "  <thead>\n",
       "    <tr style=\"text-align: right;\">\n",
       "      <th></th>\n",
       "      <th>Adress</th>\n",
       "      <th>Square Feet</th>\n",
       "      <th>Punctuation</th>\n",
       "      <th>Startups</th>\n",
       "      <th>Starbucks</th>\n",
       "      <th>Old companies</th>\n",
       "      <th>Schools</th>\n",
       "      <th>Night bars</th>\n",
       "      <th>Vegan Rest</th>\n",
       "      <th>Airport</th>\n",
       "      <th>Location</th>\n",
       "      <th>Reference</th>\n",
       "    </tr>\n",
       "  </thead>\n",
       "  <tbody>\n",
       "    <tr>\n",
       "      <th>0</th>\n",
       "      <td>40 Court St, Boston, MA 02108, USA</td>\n",
       "      <td>4,000</td>\n",
       "      <td>40.00</td>\n",
       "      <td>12.50</td>\n",
       "      <td>12.5</td>\n",
       "      <td>-12.50</td>\n",
       "      <td>2.5</td>\n",
       "      <td>12.50</td>\n",
       "      <td>12.50</td>\n",
       "      <td>4.16538866183103 km</td>\n",
       "      <td>[-71.0592945, 42.3588496]</td>\n",
       "      <td>https://42floors.com//us/ma/boston/40-court-st...</td>\n",
       "    </tr>\n",
       "    <tr>\n",
       "      <th>1</th>\n",
       "      <td>164 Newbury St, Boston, MA 02116, USA</td>\n",
       "      <td>1,400</td>\n",
       "      <td>40.00</td>\n",
       "      <td>7.50</td>\n",
       "      <td>10.0</td>\n",
       "      <td>-12.50</td>\n",
       "      <td>12.5</td>\n",
       "      <td>10.00</td>\n",
       "      <td>12.50</td>\n",
       "      <td>5.931335598372138 km</td>\n",
       "      <td>[-71.0785848, 42.3504322]</td>\n",
       "      <td>https://42floors.com//us/ma/boston/164-newbury...</td>\n",
       "    </tr>\n",
       "    <tr>\n",
       "      <th>2</th>\n",
       "      <td>30 Kneeland St, Boston, MA 02111, USA</td>\n",
       "      <td>880</td>\n",
       "      <td>40.00</td>\n",
       "      <td>10.00</td>\n",
       "      <td>10.0</td>\n",
       "      <td>-11.25</td>\n",
       "      <td>7.5</td>\n",
       "      <td>11.25</td>\n",
       "      <td>12.50</td>\n",
       "      <td>4.6111167651759235 km</td>\n",
       "      <td>[-71.06187899999999, 42.3508642]</td>\n",
       "      <td>https://42floors.com//us/ma/boston/30-kneeland...</td>\n",
       "    </tr>\n",
       "    <tr>\n",
       "      <th>3</th>\n",
       "      <td>65 Harrison Ave, Boston, MA 02111, USA</td>\n",
       "      <td>530</td>\n",
       "      <td>38.75</td>\n",
       "      <td>11.25</td>\n",
       "      <td>10.0</td>\n",
       "      <td>-11.25</td>\n",
       "      <td>7.5</td>\n",
       "      <td>10.00</td>\n",
       "      <td>11.25</td>\n",
       "      <td>4.557701136401338 km</td>\n",
       "      <td>[-71.0614302, 42.3513453]</td>\n",
       "      <td>https://42floors.com//us/ma/boston/65-harrison...</td>\n",
       "    </tr>\n",
       "    <tr>\n",
       "      <th>4</th>\n",
       "      <td>420 Boylston St, Boston, MA 02116, USA</td>\n",
       "      <td>3,920</td>\n",
       "      <td>38.75</td>\n",
       "      <td>11.25</td>\n",
       "      <td>12.5</td>\n",
       "      <td>-11.25</td>\n",
       "      <td>7.5</td>\n",
       "      <td>6.25</td>\n",
       "      <td>12.50</td>\n",
       "      <td>5.4344974428186426 km</td>\n",
       "      <td>[-71.072549, 42.351083]</td>\n",
       "      <td>https://42floors.com//us/ma/boston/420-boylsto...</td>\n",
       "    </tr>\n",
       "    <tr>\n",
       "      <th>...</th>\n",
       "      <td>...</td>\n",
       "      <td>...</td>\n",
       "      <td>...</td>\n",
       "      <td>...</td>\n",
       "      <td>...</td>\n",
       "      <td>...</td>\n",
       "      <td>...</td>\n",
       "      <td>...</td>\n",
       "      <td>...</td>\n",
       "      <td>...</td>\n",
       "      <td>...</td>\n",
       "      <td>...</td>\n",
       "    </tr>\n",
       "    <tr>\n",
       "      <th>63</th>\n",
       "      <td>300 Congress St, Quincy, MA 02169, USA</td>\n",
       "      <td>10,600 - 10,770</td>\n",
       "      <td>0.00</td>\n",
       "      <td>0.00</td>\n",
       "      <td>0.0</td>\n",
       "      <td>-0.00</td>\n",
       "      <td>0.0</td>\n",
       "      <td>0.00</td>\n",
       "      <td>0.00</td>\n",
       "      <td>14.567636185360263 km</td>\n",
       "      <td>[-71.0150002, 42.2345289]</td>\n",
       "      <td>https://42floors.com//us/ma/boston/300-congres...</td>\n",
       "    </tr>\n",
       "    <tr>\n",
       "      <th>64</th>\n",
       "      <td>70 Franklin St, New York, NY 10013, USA</td>\n",
       "      <td>10,050 - 11,430</td>\n",
       "      <td>0.00</td>\n",
       "      <td>0.00</td>\n",
       "      <td>0.0</td>\n",
       "      <td>-0.00</td>\n",
       "      <td>0.0</td>\n",
       "      <td>0.00</td>\n",
       "      <td>0.00</td>\n",
       "      <td>309.6816058391006 km</td>\n",
       "      <td>[-74.004108, 40.7179659]</td>\n",
       "      <td>https://42floors.com//us/ma/boston/70-franklin...</td>\n",
       "    </tr>\n",
       "    <tr>\n",
       "      <th>65</th>\n",
       "      <td>37 Charles St, New York, NY 10014, USA</td>\n",
       "      <td>880</td>\n",
       "      <td>0.00</td>\n",
       "      <td>0.00</td>\n",
       "      <td>0.0</td>\n",
       "      <td>-0.00</td>\n",
       "      <td>0.0</td>\n",
       "      <td>0.00</td>\n",
       "      <td>0.00</td>\n",
       "      <td>308.441410835834 km</td>\n",
       "      <td>[-74.0027379, 40.73511389999999]</td>\n",
       "      <td>https://42floors.com//us/ma/boston/37-charles-...</td>\n",
       "    </tr>\n",
       "    <tr>\n",
       "      <th>66</th>\n",
       "      <td>345 Carroll St, Brooklyn, NY 11231, USA</td>\n",
       "      <td>6,800</td>\n",
       "      <td>0.00</td>\n",
       "      <td>0.00</td>\n",
       "      <td>0.0</td>\n",
       "      <td>-0.00</td>\n",
       "      <td>0.0</td>\n",
       "      <td>0.00</td>\n",
       "      <td>0.00</td>\n",
       "      <td>311.43017459278934 km</td>\n",
       "      <td>[-73.9910116, 40.67919089999999]</td>\n",
       "      <td>https://42floors.com//us/ma/boston/345-a-st?li...</td>\n",
       "    </tr>\n",
       "    <tr>\n",
       "      <th>67</th>\n",
       "      <td>1 Liberty St, New York, NY 10006, USA</td>\n",
       "      <td>500</td>\n",
       "      <td>0.00</td>\n",
       "      <td>0.00</td>\n",
       "      <td>0.0</td>\n",
       "      <td>-0.00</td>\n",
       "      <td>0.0</td>\n",
       "      <td>0.00</td>\n",
       "      <td>0.00</td>\n",
       "      <td>310.6742635751509 km</td>\n",
       "      <td>[-74.01073939999999, 40.7098327]</td>\n",
       "      <td>https://42floors.com//us/ma/boston/1-liberty-s...</td>\n",
       "    </tr>\n",
       "  </tbody>\n",
       "</table>\n",
       "<p>68 rows × 12 columns</p>\n",
       "</div>"
      ],
      "text/plain": [
       "                                     Adress      Square Feet  Punctuation  \\\n",
       "0        40 Court St, Boston, MA 02108, USA            4,000        40.00   \n",
       "1     164 Newbury St, Boston, MA 02116, USA            1,400        40.00   \n",
       "2     30 Kneeland St, Boston, MA 02111, USA              880        40.00   \n",
       "3    65 Harrison Ave, Boston, MA 02111, USA              530        38.75   \n",
       "4    420 Boylston St, Boston, MA 02116, USA            3,920        38.75   \n",
       "..                                      ...              ...          ...   \n",
       "63   300 Congress St, Quincy, MA 02169, USA  10,600 - 10,770         0.00   \n",
       "64  70 Franklin St, New York, NY 10013, USA  10,050 - 11,430         0.00   \n",
       "65   37 Charles St, New York, NY 10014, USA              880         0.00   \n",
       "66  345 Carroll St, Brooklyn, NY 11231, USA            6,800         0.00   \n",
       "67    1 Liberty St, New York, NY 10006, USA              500         0.00   \n",
       "\n",
       "    Startups  Starbucks  Old companies  Schools  Night bars  Vegan Rest  \\\n",
       "0      12.50       12.5         -12.50      2.5       12.50       12.50   \n",
       "1       7.50       10.0         -12.50     12.5       10.00       12.50   \n",
       "2      10.00       10.0         -11.25      7.5       11.25       12.50   \n",
       "3      11.25       10.0         -11.25      7.5       10.00       11.25   \n",
       "4      11.25       12.5         -11.25      7.5        6.25       12.50   \n",
       "..       ...        ...            ...      ...         ...         ...   \n",
       "63      0.00        0.0          -0.00      0.0        0.00        0.00   \n",
       "64      0.00        0.0          -0.00      0.0        0.00        0.00   \n",
       "65      0.00        0.0          -0.00      0.0        0.00        0.00   \n",
       "66      0.00        0.0          -0.00      0.0        0.00        0.00   \n",
       "67      0.00        0.0          -0.00      0.0        0.00        0.00   \n",
       "\n",
       "                  Airport                          Location  \\\n",
       "0     4.16538866183103 km         [-71.0592945, 42.3588496]   \n",
       "1    5.931335598372138 km         [-71.0785848, 42.3504322]   \n",
       "2   4.6111167651759235 km  [-71.06187899999999, 42.3508642]   \n",
       "3    4.557701136401338 km         [-71.0614302, 42.3513453]   \n",
       "4   5.4344974428186426 km           [-71.072549, 42.351083]   \n",
       "..                    ...                               ...   \n",
       "63  14.567636185360263 km         [-71.0150002, 42.2345289]   \n",
       "64   309.6816058391006 km          [-74.004108, 40.7179659]   \n",
       "65    308.441410835834 km  [-74.0027379, 40.73511389999999]   \n",
       "66  311.43017459278934 km  [-73.9910116, 40.67919089999999]   \n",
       "67   310.6742635751509 km  [-74.01073939999999, 40.7098327]   \n",
       "\n",
       "                                            Reference  \n",
       "0   https://42floors.com//us/ma/boston/40-court-st...  \n",
       "1   https://42floors.com//us/ma/boston/164-newbury...  \n",
       "2   https://42floors.com//us/ma/boston/30-kneeland...  \n",
       "3   https://42floors.com//us/ma/boston/65-harrison...  \n",
       "4   https://42floors.com//us/ma/boston/420-boylsto...  \n",
       "..                                                ...  \n",
       "63  https://42floors.com//us/ma/boston/300-congres...  \n",
       "64  https://42floors.com//us/ma/boston/70-franklin...  \n",
       "65  https://42floors.com//us/ma/boston/37-charles-...  \n",
       "66  https://42floors.com//us/ma/boston/345-a-st?li...  \n",
       "67  https://42floors.com//us/ma/boston/1-liberty-s...  \n",
       "\n",
       "[68 rows x 12 columns]"
      ]
     },
     "execution_count": 7,
     "metadata": {},
     "output_type": "execute_result"
    }
   ],
   "source": [
    "df = df_offices.sort_values(by=['Punctuation'],ascending=False)\n",
    "df.to_csv('../output/office-location.csv')\n",
    "df = df.reset_index(drop=True)\n",
    "df"
   ]
  },
  {
   "cell_type": "code",
   "execution_count": 8,
   "metadata": {},
   "outputs": [
    {
     "name": "stdout",
     "output_type": "stream",
     "text": [
      "Introduce the index of the office you want:0\n"
     ]
    }
   ],
   "source": [
    "coordinates = int(input(\"Introduce the index of the office you want:\" ))\n",
    "selected_office = df[\"Location\"].iloc[coordinates][::-1]"
   ]
  },
  {
   "cell_type": "code",
   "execution_count": 9,
   "metadata": {},
   "outputs": [],
   "source": [
    "M.mapResults(selected_office,16,names,colors,collections,air_coord,selected_office,\"final_map\")"
   ]
  },
  {
   "cell_type": "code",
   "execution_count": 10,
   "metadata": {},
   "outputs": [
    {
     "name": "stdout",
     "output_type": "stream",
     "text": [
      "Which map do you want to see? (initial_map / final_map): final_map\n"
     ]
    },
    {
     "name": "stderr",
     "output_type": "stream",
     "text": [
      "/usr/local/Cellar/ipython/7.7.0/libexec/lib/python3.7/site-packages/IPython/core/display.py:694: UserWarning: Consider using IPython.display.IFrame instead\n",
      "  warnings.warn(\"Consider using IPython.display.IFrame instead\")\n"
     ]
    },
    {
     "data": {
      "text/html": [
       "<iframe src=../output/final_map.html width=700 height=450></iframe>"
      ],
      "text/plain": [
       "<IPython.core.display.HTML object>"
      ]
     },
     "metadata": {},
     "output_type": "display_data"
    },
    {
     "name": "stdout",
     "output_type": "stream",
     "text": [
      "Do you want to see another map? (press enter to exit)y\n",
      "Which map do you want to see? (initial_map / final_map): initial_map\n"
     ]
    },
    {
     "data": {
      "text/html": [
       "<iframe src=../output/initial_map.html width=700 height=450></iframe>"
      ],
      "text/plain": [
       "<IPython.core.display.HTML object>"
      ]
     },
     "metadata": {},
     "output_type": "display_data"
    },
    {
     "name": "stdout",
     "output_type": "stream",
     "text": [
      "Do you want to see another map? (press enter to exit)\n"
     ]
    }
   ],
   "source": [
    "M.mappingChoice()"
   ]
  },
  {
   "cell_type": "code",
   "execution_count": null,
   "metadata": {},
   "outputs": [],
   "source": []
  }
 ],
 "metadata": {
  "kernelspec": {
   "display_name": "Python 3",
   "language": "python",
   "name": "python3"
  },
  "language_info": {
   "codemirror_mode": {
    "name": "ipython",
    "version": 3
   },
   "file_extension": ".py",
   "mimetype": "text/x-python",
   "name": "python",
   "nbconvert_exporter": "python",
   "pygments_lexer": "ipython3",
   "version": "3.7.5"
  }
 },
 "nbformat": 4,
 "nbformat_minor": 2
}

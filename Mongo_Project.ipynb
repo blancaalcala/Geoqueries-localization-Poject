{
 "cells": [
  {
   "cell_type": "code",
   "execution_count": 1,
   "metadata": {},
   "outputs": [],
   "source": [
    "import os\n",
    "import pandas as pd\n",
    "from dotenv import load_dotenv\n",
    "from pymongo import MongoClient\n",
    "from bs4 import BeautifulSoup\n",
    "import geocoder\n",
    "import requests\n",
    "import folium\n",
    "import geopy.distance\n",
    "import json\n",
    "from folium.plugins import MousePosition\n",
    "from folium.plugins import Draw\n",
    "\n",
    "\n",
    "load_dotenv()\n",
    "\n",
    "\n",
    "def connectCollection(database, collection):\n",
    "    client = MongoClient()\n",
    "    db = client[database]\n",
    "    coll = db[collection]\n",
    "    return db, coll\n",
    "\n",
    "db, austin = connectCollection('companies','companies')\n",
    "db, start = connectCollection('companies','startups')\n",
    "db, filtered = connectCollection('companies','filtered')\n",
    "db, starbucks = connectCollection('companies','starbucks')\n",
    "db, schools = connectCollection('companies','schools')\n",
    "db, night = connectCollection('companies','night')"
   ]
  },
  {
   "cell_type": "code",
   "execution_count": 2,
   "metadata": {},
   "outputs": [],
   "source": [
    "# encontramos todas las empresas con oficinas en Boston, MA\n",
    "# estas empresas deben seguir existiendo (deadpooled==None)\n",
    "# debemos saber el año en el que fueron fundadas (founded_year==exists)\n",
    "\n",
    "\n",
    "austin_comp = list(austin.find({\"$and\":[{\"offices.city\":\"Boston\"},{\"deadpooled_year\":None},\n",
    "                                        {\"founded_year\":{\"$exists\":True}}]}))\n",
    "\n"
   ]
  },
  {
   "cell_type": "code",
   "execution_count": 3,
   "metadata": {},
   "outputs": [],
   "source": [
    "# creamos una nueva coleccion con los datos filtrados\n",
    "# filtramos por el año en el que fueron fundadas (no mas de 10 años)\n",
    "# separamos las empresas en sus distintas oficinas\n",
    "\n",
    "\n",
    "for y in austin_comp:\n",
    "    if y[\"founded_year\"]==None or y[\"founded_year\"]>2009:\n",
    "        pass\n",
    "    else:\n",
    "        for of in range(len(y[\"offices\"])):\n",
    "            if y[\"offices\"][of][\"city\"]==\"Boston\":\n",
    "                db.filtered.insert_one(\n",
    "                {\"name\":y[\"name\"],\"homepage_url\":y[\"homepage_url\"],\"category_code\":y[\"category_code\"],\n",
    "                \"number_of_employees\":y[\"number_of_employees\"],\"founded_year\":y[\"founded_year\"],\n",
    "                \"total_money_raised\":y[\"total_money_raised\"],\"offices\":y[\"offices\"][of]})\n",
    "                "
   ]
  },
  {
   "cell_type": "code",
   "execution_count": 4,
   "metadata": {},
   "outputs": [],
   "source": [
    "def getLocation(_lng,_lat):\n",
    "    longitude = _lng\n",
    "    latitude = _lat\n",
    "    try:\n",
    "        loc = {\n",
    "            'type':'Point',\n",
    "            'coordinates':[float(longitude), float(latitude)]\n",
    "        }\n",
    "        return loc\n",
    "    except:\n",
    "        pass"
   ]
  },
  {
   "cell_type": "code",
   "execution_count": 5,
   "metadata": {},
   "outputs": [],
   "source": [
    "# funcion para geolocalizar direcciones\n",
    "\n",
    "def place_request(direction):\n",
    "    if not os.getenv(\"google\"):\n",
    "        raise ValueError(\"No API token!\")\n",
    "    else:\n",
    "        g = geocoder.google(direction,key=os.getenv(\"google\"))\n",
    "        return g.json\n",
    "    "
   ]
  },
  {
   "cell_type": "code",
   "execution_count": 6,
   "metadata": {},
   "outputs": [],
   "source": [
    "filter_list = filtered.find()\n",
    "for i in filter_list:\n",
    "    lng = i[\"offices\"][\"longitude\"]\n",
    "    lat = i[\"offices\"][\"latitude\"]\n",
    "    geocode = {\"$set\": {'location':getLocation(lng,lat)}}\n",
    "    filtered.update_one(i,geocode)"
   ]
  },
  {
   "cell_type": "code",
   "execution_count": 7,
   "metadata": {},
   "outputs": [],
   "source": [
    "# de angel.co sacamos un csv filtrado de startups en Boston que han ganado entre 2 y 100 M\n",
    "# https://angel.co/\n",
    "# subimos ese csv a mongo db compass desde la terminal\n",
    "# mongoimport --db companies --collection companies --file startups.csv\n",
    "\n",
    "startups = list(start.find())\n",
    "startups = [startups[s] for s in range(len(startups)-1) if int(startups[s][\"Total Raised\"])>1000000]\n",
    "\n",
    "# obtenemos la direccion de todas las startups en Boston (nombre y estado)\n",
    "\n",
    "for startup in startups[:-1]:\n",
    "    #x = place_request(startup[\"Name\"]+\",MA\")\n",
    "    try:\n",
    "        lat = x[\"raw\"][\"geometry\"][\"location\"][\"lat\"]\n",
    "        lng = x[\"raw\"][\"geometry\"][\"location\"][\"lng\"]\n",
    "        geocode = {\"$set\": {'location':getLocation(lng,lat)}}\n",
    "        start.update_one(startup,geocode)\n",
    "    except:\n",
    "        pass\n"
   ]
  },
  {
   "cell_type": "code",
   "execution_count": 8,
   "metadata": {},
   "outputs": [],
   "source": [
    "# https://www.kaggle.com/crawford/boston-public-schools\n",
    "# CSV con los colegios publicos en Boston de los que sacamos la localizacion\n",
    "\n",
    "school = list(schools.find())\n",
    "for s in school:\n",
    "    lng = s[\"\\ufeffX\"]\n",
    "    lat = s[\"Y\"]\n",
    "    geocode = {\"$set\": {'location':getLocation(lng,lat)}}\n",
    "    schools.update_one(s,geocode)\n"
   ]
  },
  {
   "cell_type": "code",
   "execution_count": 9,
   "metadata": {},
   "outputs": [],
   "source": [
    "def request_json(url):\n",
    "    res = requests.get(url).json()\n",
    "    return res[\"results\"]\n",
    "\n",
    "def getAdress(results):\n",
    "    return results[\"formatted_address\"]\n",
    "\n",
    "def getPosition(results):\n",
    "    lng = results[\"geometry\"][\"location\"][\"lng\"]\n",
    "    lat = results[\"geometry\"][\"location\"][\"lat\"]\n",
    "    return lng,lat\n",
    "    "
   ]
  },
  {
   "cell_type": "code",
   "execution_count": 10,
   "metadata": {},
   "outputs": [],
   "source": [
    "### starbucks search\n",
    "url_starbucks = (f\"https://maps.googleapis.com/maps/api/place/textsearch/json?query=starbucks+in+Boston&key={os.getenv('google')}\")\n",
    "#starbucks_info = request_json(url_starbucks)\n",
    "for s in starbucks_info:\n",
    "    lng,lat = getPosition(s)\n",
    "    db.starbucks.insert_one({'location':getLocation(lng,lat),'adress':getAdress(s)})\n",
    "\n",
    "### night search\n",
    "url_night = f\"https://maps.googleapis.com/maps/api/place/textsearch/json?query=night+bars+Boston&key={os.getenv('google')}\"\n",
    "#night_info = request_json(url_night) \n",
    "for n in night_info:\n",
    "    lng,lat = getPosition(n)\n",
    "    db.night.insert_one({'location':getLocation(lng,lat),'adress':getAdress(n)})    \n",
    "    "
   ]
  },
  {
   "cell_type": "code",
   "execution_count": 11,
   "metadata": {},
   "outputs": [],
   "source": [
    "# we set the initial location as the center of Boston, from googlemaps\n",
    "\n",
    "#city = place_request(\"boston,MA\")\n",
    "#airport = place_request(\"boston airport\")\n",
    "#air_coord = airport.get('lat'),airport.get('lng')"
   ]
  },
  {
   "cell_type": "code",
   "execution_count": 187,
   "metadata": {},
   "outputs": [],
   "source": [
    "filtered_2 = filtered.find({\"location.coordinates\":{\"$exists\":True}})\n",
    "start_2 = start.find({\"location.coordinates\":{\"$exists\":True}})\n",
    "schools_2 = schools.find({\"location.coordinates\":{\"$exists\":True}})\n",
    "starbucks_2 = starbucks.find({\"location.coordinates\":{\"$exists\":True}})\n",
    "night_2 = night.find({\"location.coordinates\":{\"$exists\":True}})"
   ]
  },
  {
   "cell_type": "code",
   "execution_count": 189,
   "metadata": {},
   "outputs": [
    {
     "data": {
      "text/plain": [
       "<folium.plugins.draw.Draw at 0x1140df990>"
      ]
     },
     "execution_count": 189,
     "metadata": {},
     "output_type": "execute_result"
    }
   ],
   "source": [
    "m = folium.Map([city.get(\"lat\"),city.get(\"lng\")], zoom_start=15,tiles='cartodbpositron')\n",
    "     \n",
    "school_group = folium.FeatureGroup(name=\"Schools\").add_to(m)\n",
    "start_group = folium.FeatureGroup(name=\"Startups\").add_to(m)\n",
    "companies_group = folium.FeatureGroup(name=\"Companies\").add_to(m)\n",
    "starbucks_group = folium.FeatureGroup(name=\"Starbucks\").add_to(m) \n",
    "night_group = folium.FeatureGroup(name=\"Night bars\").add_to(m)\n",
    "plane_group = folium.FeatureGroup(name=\"Airport\").add_to(m)\n",
    "    \n",
    "    \n",
    "for c in list(filtered_2):\n",
    "    coord = c[\"location\"][\"coordinates\"][::-1]\n",
    "    icon=folium.Icon(color='black',prefix='companies')\n",
    "    companies_group.add_child(folium.Marker(coord,popup=\"Old company \"+str(coord),icon=icon))   \n",
    "\n",
    "for school in list(schools_2):\n",
    "    coord = school[\"location\"][\"coordinates\"][::-1]\n",
    "    icon=folium.Icon(color='darkblue', icon='home', icon_color=\"red\", prefix='School')\n",
    "    school_group.add_child(folium.Marker(coord,popup=\"School \"+str(coord),icon=icon))\n",
    "\n",
    "for start_loc in list(start_2):\n",
    "    coord = start_loc[\"location\"][\"coordinates\"][::-1]\n",
    "    icon=folium.Icon(color='orange', prefix='startup')\n",
    "    start_group.add_child(folium.Marker(coord,popup=\"Startup \"+str(coord),icon=icon))\n",
    "\n",
    "for star in list(starbucks_2):\n",
    "    coord = star[\"location\"][\"coordinates\"][::-1]\n",
    "    icon=folium.Icon(color='darkgreen', prefix='starbucks')\n",
    "    starbucks_group.add_child(folium.Marker(coord,popup=\"Starbucks \"+str(coord),icon=icon))\n",
    "    \n",
    "for club in list(night_2):\n",
    "    coord = club[\"location\"][\"coordinates\"][::-1]\n",
    "    icon=folium.Icon(color='purple', prefix='Night bar')\n",
    "    night_group.add_child(folium.Marker(coord,popup=\"Night bar \"+str(coord),icon=icon))\n",
    "\n",
    "icon=folium.Icon(icon='cloud',color='lightblue', prefix='Airport')\n",
    "plane_group.add_child(folium.Marker(air_coord,popup=\"Airport \"+str(air_coord),icon=icon))\n",
    "    \n",
    "folium.LayerControl(collapsed=True).add_to(m)\n",
    "folium.LatLngPopup().add_to(m)\n",
    "\n",
    "draw = Draw(export=True)\n",
    "\n",
    "\n",
    "\n",
    "formatter = \"function(num) {return L.Util.formatNum(num, 3) + ' º ';};\"\n",
    "MousePosition(\n",
    "    position='topright',\n",
    "    separator=' | ',\n",
    "    lng_first=True,\n",
    "    prefix='Coordinates:',\n",
    "    lat_formatter=formatter,\n",
    "    lng_formatter=formatter,\n",
    ").add_to(m)\n",
    "\n",
    "\n",
    "\n",
    "draw.add_to(m)\n",
    "\n"
   ]
  },
  {
   "cell_type": "code",
   "execution_count": 151,
   "metadata": {},
   "outputs": [],
   "source": [
    "schools_2 = schools.find({\"location\":{\"$geoWithin\":{\"$centerSphere\":[[-71.05980241470984,42.36022870301706 ],0.0001756461077225538]}}})\n",
    "filtered_2 = filtered.find({\"location\":{\"$geoWithin\":{\"$centerSphere\":[[-71.05980241470984,42.36022870301706 ],0.0001756461077225538]}}})\n",
    "start_2 = start.find({\"location\":{\"$geoWithin\":{\"$centerSphere\":[[-71.05980241470984,42.36022870301706 ],0.0001756461077225538]}}})\n",
    "starbucks_2 = starbucks.find({\"location\":{\"$geoWithin\":{\"$centerSphere\":[[-71.05980241470984,42.36022870301706 ],0.0001756461077225538]}}})\n",
    "night_2 = night.find({\"location\":{\"$geoWithin\":{\"$centerSphere\":[[-71.05980241470984,42.36022870301706 ],0.0001756461077225538]}}})\n",
    "\n",
    "\n",
    "\n"
   ]
  },
  {
   "cell_type": "code",
   "execution_count": null,
   "metadata": {},
   "outputs": [],
   "source": []
  },
  {
   "cell_type": "code",
   "execution_count": 127,
   "metadata": {
    "scrolled": false
   },
   "outputs": [
    {
     "data": {
      "text/plain": [
       "<folium.plugins.draw.Draw at 0x101fcd750>"
      ]
     },
     "execution_count": 127,
     "metadata": {},
     "output_type": "execute_result"
    }
   ],
   "source": [
    "m2 = folium.Map([city.get(\"lat\"),city.get(\"lng\")], zoom_start=15,tiles='cartodbpositron')\n",
    "     \n",
    "school_group = folium.FeatureGroup(name=\"Schools\").add_to(m2)\n",
    "start_group = folium.FeatureGroup(name=\"Startups\").add_to(m2)\n",
    "companies_group = folium.FeatureGroup(name=\"Companies\").add_to(m2)\n",
    "starbucks_group = folium.FeatureGroup(name=\"Starbucks\").add_to(m2) \n",
    "night_group = folium.FeatureGroup(name=\"Night bars\").add_to(m2)\n",
    "plane_group = folium.FeatureGroup(name=\"Airport\").add_to(m2)\n",
    "    \n",
    "    \n",
    "for c in list(filtered_2):\n",
    "    coord = c[\"location\"][\"coordinates\"][::-1]\n",
    "    icon=folium.Icon(color='black',prefix='companies')\n",
    "    companies_group.add_child(folium.Marker(coord,popup=\"Old company \"+str(coord),icon=icon))   \n",
    "\n",
    "for school in list(schools_2):\n",
    "    coord = school[\"location\"][\"coordinates\"][::-1]\n",
    "    icon=folium.Icon(color='darkblue', icon='home', icon_color=\"red\", prefix='School')\n",
    "    school_group.add_child(folium.Marker(coord,popup=\"School \"+str(coord),icon=icon))\n",
    "\n",
    "for start_loc in list(start_2):\n",
    "    coord = start_loc[\"location\"][\"coordinates\"][::-1]\n",
    "    icon=folium.Icon(color='orange', prefix='startup')\n",
    "    start_group.add_child(folium.Marker(coord,popup=\"Startup \"+str(coord),icon=icon))\n",
    "\n",
    "for star in list(starbucks_2):\n",
    "    coord = star[\"location\"][\"coordinates\"][::-1]\n",
    "    icon=folium.Icon(color='darkgreen', prefix='starbucks')\n",
    "    starbucks_group.add_child(folium.Marker(coord,popup=\"Starbucks \"+str(coord),icon=icon))\n",
    "    \n",
    "for club in list(night_2):\n",
    "    coord = club[\"location\"][\"coordinates\"][::-1]\n",
    "    icon=folium.Icon(color='purple', prefix='Night bar')\n",
    "    night_group.add_child(folium.Marker(coord,popup=\"Night bar \"+str(coord),icon=icon))\n",
    "\n",
    "icon=folium.Icon(icon='cloud',color='lightblue', prefix='Airport')\n",
    "plane_group.add_child(folium.Marker(air_coord,popup=\"Airport \"+str(air_coord),icon=icon))\n",
    "    \n",
    "folium.LayerControl(collapsed=True).add_to(m2)\n",
    "folium.LatLngPopup().add_to(m2)\n",
    "\n",
    "draw = Draw(export=True)\n",
    "\n",
    "\n",
    "\n",
    "formatter = \"function(num) {return L.Util.formatNum(num, 3) + ' º ';};\"\n",
    "MousePosition(\n",
    "    position='topright',\n",
    "    separator=' | ',\n",
    "    lng_first=True,\n",
    "    prefix='Coordinates:',\n",
    "    lat_formatter=formatter,\n",
    "    lng_formatter=formatter,\n",
    ").add_to(m2)\n",
    "\n",
    "folium.Circle([42.36022870301706,-71.05980241470984],radius=1000).add_to(m2)\n",
    "\n",
    "draw.add_to(m2)\n",
    "\n",
    "\n",
    "\n"
   ]
  },
  {
   "cell_type": "code",
   "execution_count": null,
   "metadata": {},
   "outputs": [],
   "source": []
  },
  {
   "cell_type": "code",
   "execution_count": 190,
   "metadata": {},
   "outputs": [],
   "source": [
    "def minDist(c1,c2):\n",
    "    dist = geopy.distance.distance(c1,c2).km\n",
    "    return f\"Distance: {round(dist,2)} Km\"\n"
   ]
  },
  {
   "cell_type": "code",
   "execution_count": 182,
   "metadata": {},
   "outputs": [],
   "source": [
    "distances = [\"airport\",\"night clubs\",\"sucesful startup\",\"starbucks\",\"school\",\"old company\"]\n",
    "coords = [airport_coords,club_coords,startup_coords,starbucks_coords,schools_coords,filtered_coords]\n",
    "\n",
    "\n",
    "    "
   ]
  },
  {
   "cell_type": "code",
   "execution_count": 206,
   "metadata": {},
   "outputs": [],
   "source": [
    "def nearestPlaces(collection,selector):\n",
    "    x = collection.find({\"location\":\n",
    "    {\"$near\":{\"$geometry\":{\"type\": \"Point\",\"coordinates\":selector},}},\"$maxDistance\":200})\n",
    "    return list(x)\n"
   ]
  },
  {
   "cell_type": "code",
   "execution_count": 208,
   "metadata": {},
   "outputs": [],
   "source": [
    "selector = [0,0]\n",
    "#nearestPlaces(start,selector)"
   ]
  },
  {
   "cell_type": "code",
   "execution_count": null,
   "metadata": {},
   "outputs": [],
   "source": []
  },
  {
   "cell_type": "code",
   "execution_count": null,
   "metadata": {},
   "outputs": [],
   "source": []
  },
  {
   "cell_type": "code",
   "execution_count": null,
   "metadata": {},
   "outputs": [],
   "source": []
  }
 ],
 "metadata": {
  "kernelspec": {
   "display_name": "Python 3",
   "language": "python",
   "name": "python3"
  },
  "language_info": {
   "codemirror_mode": {
    "name": "ipython",
    "version": 3
   },
   "file_extension": ".py",
   "mimetype": "text/x-python",
   "name": "python",
   "nbconvert_exporter": "python",
   "pygments_lexer": "ipython3",
   "version": "3.7.5"
  }
 },
 "nbformat": 4,
 "nbformat_minor": 2
}

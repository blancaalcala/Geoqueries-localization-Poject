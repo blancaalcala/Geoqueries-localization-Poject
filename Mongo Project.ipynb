{
 "cells": [
  {
   "cell_type": "code",
   "execution_count": 43,
   "metadata": {},
   "outputs": [],
   "source": [
    "import os\n",
    "import pandas as pd\n",
    "from dotenv import load_dotenv\n",
    "from pymongo import MongoClient\n",
    "from bs4 import BeautifulSoup\n",
    "import geocoder\n",
    "import requests\n",
    "import folium\n",
    "import geopy.distance\n",
    "import json\n",
    "from folium.plugins import MousePosition\n",
    "\n",
    "\n",
    "load_dotenv()\n",
    "\n",
    "\n",
    "def connectCollection(database, collection):\n",
    "    client = MongoClient()\n",
    "    db = client[database]\n",
    "    coll = db[collection]\n",
    "    return db, coll\n",
    "\n",
    "db, austin = connectCollection('companies','companies')\n",
    "db, start = connectCollection('companies','startups')\n",
    "db, filtered = connectCollection('companies','filtered')\n",
    "db, starbucks = connectCollection('companies','starbucks')\n",
    "db, schools = connectCollection('companies','schools')\n",
    "db, night = connectCollection('companies','night')"
   ]
  },
  {
   "cell_type": "code",
   "execution_count": 44,
   "metadata": {},
   "outputs": [],
   "source": [
    "# encontramos todas las empresas con oficinas en Boston, MA\n",
    "# estas empresas deben seguir existiendo (deadpooled==None)\n",
    "# debemos saber el año en el que fueron fundadas (founded_year==exists)\n",
    "\n",
    "\n",
    "austin_comp = list(austin.find({\"$and\":[{\"offices.city\":\"Boston\"},{\"deadpooled_year\":None},\n",
    "                                        {\"founded_year\":{\"$exists\":True}}]}))\n",
    "\n"
   ]
  },
  {
   "cell_type": "code",
   "execution_count": 45,
   "metadata": {},
   "outputs": [],
   "source": [
    "# creamos una nueva coleccion con los datos filtrados\n",
    "# filtramos por el año en el que fueron fundadas (no mas de 10 años)\n",
    "# separamos las empresas en sus distintas oficinas\n",
    "\n",
    "\n",
    "for y in austin_comp:\n",
    "    if y[\"founded_year\"]==None or y[\"founded_year\"]>2009:\n",
    "        pass\n",
    "    else:\n",
    "        for of in range(len(y[\"offices\"])):\n",
    "            if y[\"offices\"][of][\"city\"]==\"Boston\":\n",
    "                db.filtered.insert_one(\n",
    "                {\"name\":y[\"name\"],\"homepage_url\":y[\"homepage_url\"],\"category_code\":y[\"category_code\"],\n",
    "                \"number_of_employees\":y[\"number_of_employees\"],\"founded_year\":y[\"founded_year\"],\n",
    "                \"total_money_raised\":y[\"total_money_raised\"],\"offices\":y[\"offices\"][of]})\n",
    "                "
   ]
  },
  {
   "cell_type": "code",
   "execution_count": 46,
   "metadata": {},
   "outputs": [],
   "source": [
    "def getLocation(_lng,_lat):\n",
    "    longitude = _lng\n",
    "    latitude = _lat\n",
    "    try:\n",
    "        loc = {\n",
    "            'type':'Point',\n",
    "            'coordinates':[float(longitude), float(latitude)]\n",
    "        }\n",
    "        return loc\n",
    "    except:\n",
    "        pass"
   ]
  },
  {
   "cell_type": "code",
   "execution_count": 47,
   "metadata": {},
   "outputs": [],
   "source": [
    "# funcion para geolocalizar direcciones\n",
    "\n",
    "def place_request(direction):\n",
    "    if not os.getenv(\"google\"):\n",
    "        raise ValueError(\"No API token!\")\n",
    "    else:\n",
    "        g = geocoder.google(direction,key=os.getenv(\"google\"))\n",
    "        return g.json\n",
    "    "
   ]
  },
  {
   "cell_type": "code",
   "execution_count": 48,
   "metadata": {},
   "outputs": [],
   "source": [
    "filter_list = filtered.find()\n",
    "for i in filter_list:\n",
    "    lng = i[\"offices\"][\"longitude\"]\n",
    "    lat = i[\"offices\"][\"latitude\"]\n",
    "    value = {\"$set\": {'location':getLocation(lng,lat)}}\n",
    "    filtered.update_one(i,value)"
   ]
  },
  {
   "cell_type": "code",
   "execution_count": 49,
   "metadata": {},
   "outputs": [],
   "source": [
    "# de angel.co sacamos un csv filtrado de startups en Boston que han ganado entre 2 y 100 M\n",
    "# https://angel.co/\n",
    "# subimos ese csv a mongo db compass desde la terminal\n",
    "# mongoimport --db companies --collection companies --file startups.csv\n",
    "\n",
    "startups = list(start.find())\n",
    "startups = [startups[s] for s in range(len(startups)-1) if int(startups[s][\"Total Raised\"])>1000000]\n",
    "\n",
    "# obtenemos la direccion de todas las startups en Boston (nombre y estado)\n",
    "\n",
    "for startup in startups:\n",
    "    #x = place_request(startup[\"Name\"]+\",MA\")\n",
    "    try:\n",
    "        lat = x[\"raw\"][\"geometry\"][\"location\"][\"lat\"]\n",
    "        lng = x[\"raw\"][\"geometry\"][\"location\"][\"lng\"]\n",
    "        value = {\"$set\": {'location':getLocation(lng,lat)}}\n",
    "        start.update_one(startup,value)\n",
    "    except:\n",
    "        pass\n"
   ]
  },
  {
   "cell_type": "code",
   "execution_count": 55,
   "metadata": {},
   "outputs": [],
   "source": [
    "# https://www.kaggle.com/crawford/boston-public-schools\n",
    "# CSV con los colegios publicos en Boston de los que sacamos la localizacion\n",
    "\n",
    "school = list(schools.find())\n",
    "for s in school:\n",
    "    lng = s[\"\\ufeffX\"]\n",
    "    lat = s[\"Y\"]\n",
    "    value = {\"$set\": {'location':getLocation(lng,lat)}}\n",
    "    schools.update_one(s,value)\n"
   ]
  },
  {
   "cell_type": "code",
   "execution_count": null,
   "metadata": {},
   "outputs": [],
   "source": [
    "\n",
    "    "
   ]
  },
  {
   "cell_type": "code",
   "execution_count": null,
   "metadata": {},
   "outputs": [],
   "source": []
  },
  {
   "cell_type": "code",
   "execution_count": 56,
   "metadata": {},
   "outputs": [],
   "source": [
    "def request_json(url):\n",
    "    res = requests.get(url).json()\n",
    "    return res[\"results\"]\n",
    "\n",
    "def getPosition(results):\n",
    "    output = []\n",
    "    for i in range(len(results)):\n",
    "        latitude = results[i][\"geometry\"][\"location\"][\"lat\"]\n",
    "        longitude = results[i][\"geometry\"][\"location\"][\"lng\"]\n",
    "        output.append([latitude,longitude])\n",
    "    return output\n",
    "\n",
    "def getAdress(results):\n",
    "    return results[\"formatted_address\"]\n",
    "\n",
    "def request_soup(url,search_class):\n",
    "    output = []\n",
    "    res = requests.get(url)\n",
    "    soup = BeautifulSoup(res.content)\n",
    "    bars = soup.find_all(search_class)\n",
    "    for b in range(20):\n",
    "        club = bars[b].text.strip()\n",
    "        url = f\"https://maps.googleapis.com/maps/api/place/textsearch/json?query={club}+Boston&key={os.getenv('google')}\"\n",
    "        output.append(request_json(url))\n",
    "    return output\n",
    "\n",
    "    \n",
    "### starbucks search\n",
    "url_starbucks = (f\"https://maps.googleapis.com/maps/api/place/textsearch/json?query=starbucks+in+Boston&key={os.getenv('google')}\")\n",
    "starbucks_info = request_json(url_starbucks)\n",
    "for s in starbucks_info:\n",
    "    #usar getlocation y añadir geojson\n",
    "starbucks = getPosition(starbucks_info)\n",
    "\n",
    "### night search\n",
    "url_night = f\"https://maps.googleapis.com/maps/api/place/textsearch/json?query=night+bars+Boston&key={os.getenv('google')}\"\n",
    "night_info = request_json(url_starbucks) \n",
    "night = getPosition(starbucks_info)\n",
    "    "
   ]
  },
  {
   "cell_type": "code",
   "execution_count": 70,
   "metadata": {},
   "outputs": [
    {
     "data": {
      "text/plain": [
       "'65-66 Beacon St, Boston, MA 02108, United States'"
      ]
     },
     "execution_count": 70,
     "metadata": {},
     "output_type": "execute_result"
    }
   ],
   "source": [
    "\n",
    "        \n",
    "getAdress(starbucks_info[0])"
   ]
  },
  {
   "cell_type": "code",
   "execution_count": null,
   "metadata": {},
   "outputs": [],
   "source": []
  },
  {
   "cell_type": "code",
   "execution_count": null,
   "metadata": {},
   "outputs": [],
   "source": []
  },
  {
   "cell_type": "code",
   "execution_count": 15,
   "metadata": {},
   "outputs": [],
   "source": [
    "# we set the initial location as the center of Austin, from googlemaps\n",
    "\n",
    "city = place_request(\"boston,MA\")\n",
    "airport = place_request(\"boston airport\")\n",
    "air_coord = airport.get('lat'),airport.get('lng')"
   ]
  },
  {
   "cell_type": "code",
   "execution_count": 22,
   "metadata": {},
   "outputs": [],
   "source": [
    "\n"
   ]
  },
  {
   "cell_type": "code",
   "execution_count": null,
   "metadata": {},
   "outputs": [],
   "source": []
  },
  {
   "cell_type": "code",
   "execution_count": 24,
   "metadata": {},
   "outputs": [],
   "source": [
    "\n",
    "    "
   ]
  },
  {
   "cell_type": "code",
   "execution_count": null,
   "metadata": {},
   "outputs": [],
   "source": []
  },
  {
   "cell_type": "code",
   "execution_count": 16,
   "metadata": {},
   "outputs": [
    {
     "ename": "NameError",
     "evalue": "name 'Draw' is not defined",
     "output_type": "error",
     "traceback": [
      "\u001b[0;31m---------------------------------------------------------------------------\u001b[0m",
      "\u001b[0;31mNameError\u001b[0m                                 Traceback (most recent call last)",
      "\u001b[0;32m<ipython-input-16-b494602a1a48>\u001b[0m in \u001b[0;36m<module>\u001b[0;34m\u001b[0m\n\u001b[1;32m     34\u001b[0m \u001b[0mfolium\u001b[0m\u001b[0;34m.\u001b[0m\u001b[0mLatLngPopup\u001b[0m\u001b[0;34m(\u001b[0m\u001b[0;34m)\u001b[0m\u001b[0;34m.\u001b[0m\u001b[0madd_to\u001b[0m\u001b[0;34m(\u001b[0m\u001b[0mm\u001b[0m\u001b[0;34m)\u001b[0m\u001b[0;34m\u001b[0m\u001b[0;34m\u001b[0m\u001b[0m\n\u001b[1;32m     35\u001b[0m \u001b[0;34m\u001b[0m\u001b[0m\n\u001b[0;32m---> 36\u001b[0;31m \u001b[0mdraw\u001b[0m \u001b[0;34m=\u001b[0m \u001b[0mDraw\u001b[0m\u001b[0;34m(\u001b[0m\u001b[0mexport\u001b[0m\u001b[0;34m=\u001b[0m\u001b[0;32mTrue\u001b[0m\u001b[0;34m)\u001b[0m\u001b[0;34m\u001b[0m\u001b[0;34m\u001b[0m\u001b[0m\n\u001b[0m\u001b[1;32m     37\u001b[0m \u001b[0;34m\u001b[0m\u001b[0m\n\u001b[1;32m     38\u001b[0m \u001b[0;34m\u001b[0m\u001b[0m\n",
      "\u001b[0;31mNameError\u001b[0m: name 'Draw' is not defined"
     ]
    }
   ],
   "source": [
    "m = folium.Map([city.get(\"lat\"),city.get(\"lng\")], zoom_start=15,tiles='cartodbpositron')\n",
    "     \n",
    "school_group = folium.FeatureGroup(name=\"Schools\").add_to(m)\n",
    "start_group = folium.FeatureGroup(name=\"Startups\").add_to(m)\n",
    "companies_group = folium.FeatureGroup(name=\"Companies\").add_to(m)\n",
    "starbucks_group = folium.FeatureGroup(name=\"Starbucks\").add_to(m) \n",
    "night_group = folium.FeatureGroup(name=\"Night bars\").add_to(m)\n",
    "plane_group = folium.FeatureGroup(name=\"Airport\").add_to(m)\n",
    "    \n",
    "for school in school_loc:\n",
    "    icon=folium.Icon(color='darkblue', icon='home', icon_color=\"red\", prefix='School')\n",
    "    school_group.add_child(folium.Marker(school,popup=\"School \"+str(school),icon=icon))\n",
    "\n",
    "for start_loc in startup_loc:\n",
    "    icon=folium.Icon(color='orange', prefix='startup')\n",
    "    start_group.add_child(folium.Marker(start_loc,popup=\"Startup \"+str(start_loc),icon=icon))\n",
    "    \n",
    "for c in companies:\n",
    "    icon=folium.Icon(color='black',prefix='companies')\n",
    "    companies_group.add_child(folium.Marker(c[::-1],popup=\"Old company \"+str(c[::-1]),icon=icon))\n",
    "    \n",
    "for star in starbucks:\n",
    "    icon=folium.Icon(color='darkgreen', prefix='starbucks')\n",
    "    starbucks_group.add_child(folium.Marker(star,popup=\"Starbucks \"+str(star),icon=icon))\n",
    "    \n",
    "#for club in night:\n",
    " #   icon=folium.Icon(color='purple', prefix='Night bar')\n",
    "  #  start_group.add_child(folium.Marker(club,popup=\"Night bar \"+str(club),icon=icon))\n",
    "    \n",
    "icon=folium.Icon(icon='cloud',color='lightblue', prefix='Airport')\n",
    "plane_group.add_child(folium.Marker(air_coord,popup=\"Airport \"+str(air_coord),icon=icon))\n",
    "    \n",
    "folium.LayerControl(collapsed=True).add_to(m)\n",
    "folium.LatLngPopup().add_to(m)\n",
    "\n",
    "draw = Draw(export=True)\n",
    "\n",
    "\n",
    "\n",
    "formatter = \"function(num) {return L.Util.formatNum(num, 3) + ' º ';};\"\n",
    "MousePosition(\n",
    "    position='topright',\n",
    "    separator=' | ',\n",
    "    lng_first=True,\n",
    "    prefix='Coordinates:',\n",
    "    lat_formatter=formatter,\n",
    "    lng_formatter=formatter,\n",
    ").add_to(m)\n",
    "\n",
    "\n",
    "\n",
    "draw.add_to(m)\n",
    "#m"
   ]
  },
  {
   "cell_type": "code",
   "execution_count": null,
   "metadata": {
    "scrolled": false
   },
   "outputs": [],
   "source": []
  },
  {
   "cell_type": "code",
   "execution_count": null,
   "metadata": {},
   "outputs": [],
   "source": []
  },
  {
   "cell_type": "code",
   "execution_count": 342,
   "metadata": {},
   "outputs": [
    {
     "name": "stderr",
     "output_type": "stream",
     "text": [
      "/usr/local/Cellar/ipython/7.7.0/libexec/vendor/lib/python3.7/site-packages/ipykernel_launcher.py:2: DeprecationWarning: Vincenty is deprecated and is going to be removed in geopy 2.0. Use `geopy.distance.geodesic` (or the default `geopy.distance.distance`) instead, which is more accurate and always converges.\n",
      "  \n"
     ]
    },
    {
     "data": {
      "text/plain": [
       "'Distance: 24.36 Km'"
      ]
     },
     "execution_count": 342,
     "metadata": {},
     "output_type": "execute_result"
    }
   ],
   "source": [
    "def minDist(c1,c2):\n",
    "    dist = geopy.distance.vincenty(c1,c2).km\n",
    "    return f\"Distance: {round(dist*100,2)} Km\"\n",
    "        \n",
    "minDist([-71.056168,42.363618],[-71.0540,42.3644])"
   ]
  },
  {
   "cell_type": "code",
   "execution_count": 69,
   "metadata": {},
   "outputs": [],
   "source": []
  },
  {
   "cell_type": "code",
   "execution_count": 141,
   "metadata": {},
   "outputs": [],
   "source": []
  },
  {
   "cell_type": "code",
   "execution_count": null,
   "metadata": {},
   "outputs": [],
   "source": []
  },
  {
   "cell_type": "code",
   "execution_count": null,
   "metadata": {},
   "outputs": [],
   "source": []
  },
  {
   "cell_type": "code",
   "execution_count": null,
   "metadata": {},
   "outputs": [],
   "source": []
  }
 ],
 "metadata": {
  "kernelspec": {
   "display_name": "Python 3",
   "language": "python",
   "name": "python3"
  },
  "language_info": {
   "codemirror_mode": {
    "name": "ipython",
    "version": 3
   },
   "file_extension": ".py",
   "mimetype": "text/x-python",
   "name": "python",
   "nbconvert_exporter": "python",
   "pygments_lexer": "ipython3",
   "version": "3.7.5"
  }
 },
 "nbformat": 4,
 "nbformat_minor": 2
}

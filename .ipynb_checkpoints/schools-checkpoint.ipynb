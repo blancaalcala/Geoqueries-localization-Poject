{
 "cells": [
  {
   "cell_type": "code",
   "execution_count": null,
   "metadata": {},
   "outputs": [],
   "source": [
    "import functions as F\n",
    "import os\n",
    "import re\n",
    "import pandas as pd\n",
    "from dotenv import load_dotenv\n",
    "from pymongo import MongoClient\n",
    "from bs4 import BeautifulSoup\n",
    "import geocoder\n",
    "import requests\n",
    "import folium\n",
    "from folium.plugins import MousePosition\n",
    "from folium.plugins import Draw\n",
    "from geopy.distance import distance as getDistance\n",
    "load_dotenv()\n",
    "\n",
    "dbName = 'companies'\n",
    "\n",
    "db, boston = F.connectCollection(dbName,'companies')\n",
    "db, start = F.connectCollection(dbName,'startups')\n",
    "db, old_comp = F.connectCollection(dbName,'old_comp')\n",
    "db, starbucks = F.connectCollection(dbName,'starbucks')\n",
    "db, schools = F.connectCollection(dbName,'schools')\n",
    "db, night = F.connectCollection(dbName,'night')"
   ]
  },
  {
   "cell_type": "markdown",
   "metadata": {},
   "source": [
    "Obtenemos la posicion de todos los colegios publicos de Boston (Kaggle Database)   \n",
    "Inserta esta posicion en la coleccion en mongodb  \n",
    "https://www.kaggle.com/crawford/boston-public-schools\n"
   ]
  },
  {
   "cell_type": "code",
   "execution_count": null,
   "metadata": {},
   "outputs": [],
   "source": [
    "school = list(schools.find())\n",
    "for s in school:\n",
    "    lng = s[\"\\ufeffX\"]\n",
    "    lat = s[\"Y\"]\n",
    "    F.createLocation(lng,lat,schools,s)"
   ]
  }
 ],
 "metadata": {
  "kernelspec": {
   "display_name": "Python 3",
   "language": "python",
   "name": "python3"
  },
  "language_info": {
   "codemirror_mode": {
    "name": "ipython",
    "version": 3
   },
   "file_extension": ".py",
   "mimetype": "text/x-python",
   "name": "python",
   "nbconvert_exporter": "python",
   "pygments_lexer": "ipython3",
   "version": "3.7.5"
  }
 },
 "nbformat": 4,
 "nbformat_minor": 2
}

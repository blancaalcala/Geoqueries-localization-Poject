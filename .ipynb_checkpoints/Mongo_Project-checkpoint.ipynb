{
 "cells": [
  {
   "cell_type": "code",
   "execution_count": 125,
   "metadata": {},
   "outputs": [],
   "source": [
    "# antes de empezar importar a mongo compass los archivos csv con los siguientes comandos:\n",
    "# mongoimport --db companies --collection companies --file input/companies.json\n",
    "# mongoimport --db companies --collection startups --input/startups.csv\n",
    "# mongoimport --db companies --collection schools --input/public_schools.csv\n",
    "\n",
    "import os\n",
    "import pandas as pd\n",
    "from dotenv import load_dotenv\n",
    "from pymongo import MongoClient\n",
    "from bs4 import BeautifulSoup\n",
    "import geocoder\n",
    "import requests\n",
    "import folium\n",
    "import geopy.distance\n",
    "import json\n",
    "from folium.plugins import MousePosition\n",
    "from folium.plugins import Draw\n",
    "load_dotenv()\n",
    "\n",
    "\n",
    "def connectCollection(database, collection):\n",
    "    client = MongoClient()\n",
    "    db = client[database]\n",
    "    coll = db[collection]\n",
    "    return db, coll\n",
    "\n",
    "db, boston = connectCollection('companies','companies')\n",
    "db, start = connectCollection('companies','startups')\n",
    "db, old_comp = connectCollection('companies','old_comp')\n",
    "db, bankrupt = connectCollection('companies','bankrupt')\n",
    "db, starbucks = connectCollection('companies','starbucks')\n",
    "db, schools = connectCollection('companies','schools')\n",
    "db, night = connectCollection('companies','night')"
   ]
  },
  {
   "cell_type": "code",
   "execution_count": 126,
   "metadata": {},
   "outputs": [],
   "source": [
    "# encontramos todas las empresas con oficinas en Boston, MA\n",
    "# estas empresas deben seguir existiendo (deadpooled==None)\n",
    "# debemos saber el año en el que fueron fundadas (founded_year==exists)\n",
    "\n",
    "\n",
    "boston_old = list(boston.find({\"$and\":[{\"offices.city\":\"Boston\"},\n",
    "                                        {\"deadpooled_year\":None},\n",
    "                                        {\"founded_year\":{\"$exists\":True}}]}))\n",
    "\n",
    "# filtramos por el año en el que fueron fundadas (no mas de 10 años)\n",
    "# separamos las empresas en sus distintas oficinas\n",
    "\n",
    "for y in boston_old:\n",
    "    if y[\"founded_year\"]==None or y[\"founded_year\"]>2009:\n",
    "        pass\n",
    "    else:\n",
    "        for of in range(len(y[\"offices\"])):\n",
    "            if y[\"offices\"][of][\"city\"]==\"Boston\":\n",
    "                db.old_comp.insert_one(\n",
    "                {\"name\":y[\"name\"],\"homepage_url\":y[\"homepage_url\"],\"category_code\":y[\"category_code\"],\n",
    "                \"number_of_employees\":y[\"number_of_employees\"],\"founded_year\":y[\"founded_year\"],\n",
    "                \"total_money_raised\":y[\"total_money_raised\"],\"offices\":y[\"offices\"][of]})\n",
    "            \n",
    "                "
   ]
  },
  {
   "cell_type": "code",
   "execution_count": 127,
   "metadata": {},
   "outputs": [],
   "source": [
    "boston_bankrupt = list(boston.find({\"$and\":[{\"offices.city\":\"Boston\"},{\"deadpooled_year\":{\"$ne\":None}}]}))\n",
    "\n",
    "for y in boston_bankrupt:\n",
    "    for of in range(len(y[\"offices\"])):\n",
    "        if y[\"offices\"][of][\"city\"]==\"Boston\":\n",
    "            db.bankrupt.insert_one(\n",
    "            {\"name\":y[\"name\"],\"homepage_url\":y[\"homepage_url\"],\"category_code\":y[\"category_code\"],                \n",
    "             \"number_of_employees\":y[\"number_of_employees\"],\"deadpooled_year\":y[\"deadpooled_year\"],\n",
    "                \"total_money_raised\":y[\"total_money_raised\"],\"offices\":y[\"offices\"][of]})\n",
    "            \n",
    "            \n",
    "                "
   ]
  },
  {
   "cell_type": "code",
   "execution_count": 128,
   "metadata": {},
   "outputs": [],
   "source": [
    "def getLocation(_lng,_lat):\n",
    "    try:\n",
    "        loc = {\n",
    "            'type':'Point',\n",
    "            'coordinates':[float(_lng), float(_lat)]\n",
    "        }\n",
    "        return loc\n",
    "    except:\n",
    "        pass\n",
    "\n",
    "def createLocation(lng,lat,coll,i):\n",
    "    geocode = {\"$set\": {'location':getLocation(lng,lat)}}\n",
    "    coll.update_one(i,geocode)\n",
    "    \n",
    "def setLocation(coll):\n",
    "    for i in list(coll.find()):\n",
    "        lng = i[\"offices\"].get(\"longitude\")\n",
    "        lat = i[\"offices\"].get(\"latitude\")\n",
    "        coll.delete_one({\"offices.longitude\": None})\n",
    "        createLocation(lng,lat,coll,i)\n",
    "        \n"
   ]
  },
  {
   "cell_type": "code",
   "execution_count": 129,
   "metadata": {},
   "outputs": [],
   "source": [
    "setLocation(old_comp)\n",
    "setLocation(bankrupt)"
   ]
  },
  {
   "cell_type": "code",
   "execution_count": 130,
   "metadata": {},
   "outputs": [],
   "source": [
    "# funcion para geolocalizar direcciones\n",
    "\n",
    "def place_request(direction):\n",
    "    if not os.getenv(\"google\"):\n",
    "        raise ValueError(\"No API token!\")\n",
    "    else:\n",
    "        g = geocoder.google(direction,key=os.getenv(\"google\"))\n",
    "        return g.json\n",
    "    "
   ]
  },
  {
   "cell_type": "code",
   "execution_count": 131,
   "metadata": {},
   "outputs": [],
   "source": [
    "# de angel.co sacamos un csv filtrado de startups en Boston que han ganado entre 2 y 100 M\n",
    "\n",
    "startups = list(start.find())\n",
    "startups = [startups[s] for s in range(len(startups)-1) if int(startups[s][\"Total Raised\"])>1000000]\n",
    "\n",
    "# obtenemos la direccion de todas las startups en Boston (nombre y estado)\n",
    "\n",
    "for startup in startups[:-1]:\n",
    "    #x = place_request(startup[\"Name\"]+\",MA\")\n",
    "    try:\n",
    "        lat = x[\"raw\"][\"geometry\"][\"location\"][\"lat\"]\n",
    "        lng = x[\"raw\"][\"geometry\"][\"location\"][\"lng\"]\n",
    "        createLocation(lng,lat,start,startup)\n",
    "    except:\n",
    "        pass\n"
   ]
  },
  {
   "cell_type": "code",
   "execution_count": 132,
   "metadata": {},
   "outputs": [],
   "source": [
    "# https://www.kaggle.com/crawford/boston-public-schools\n",
    "\n",
    "school = list(schools.find())\n",
    "for s in school:\n",
    "    lng = s[\"\\ufeffX\"]\n",
    "    lat = s[\"Y\"]\n",
    "    createLocation(lng,lat,schools,s)\n"
   ]
  },
  {
   "cell_type": "code",
   "execution_count": 133,
   "metadata": {},
   "outputs": [],
   "source": [
    "def request_json(url):\n",
    "    res = requests.get(url).json()\n",
    "    return res[\"results\"]\n",
    "\n",
    "def getAdress(results):\n",
    "    return results[\"formatted_address\"]\n",
    "\n",
    "def getPosition(results):\n",
    "    lng = results[\"geometry\"][\"location\"][\"lng\"]\n",
    "    lat = results[\"geometry\"][\"location\"][\"lat\"]\n",
    "    return lng,lat\n",
    "    "
   ]
  },
  {
   "cell_type": "code",
   "execution_count": 134,
   "metadata": {},
   "outputs": [],
   "source": [
    "url = \"https://maps.googleapis.com/maps/api/place/textsearch/json?query=\"\n",
    "\n",
    "def insertMongo(coll,s,lng,lat):\n",
    "    coll.insert_one({'location':getLocation(lng,lat),'adress':getAdress(s)})\n",
    "    \n",
    "\n",
    "### starbucks search\n",
    "url_starbucks = url+f\"starbucks+in+Boston&key={os.getenv('google')}\"\n",
    "#starbucks_info = request_json(url_starbucks)\n",
    "for s in starbucks_info:\n",
    "    lng,lat = getPosition(s)\n",
    "    starbucks.insert_one({'location':getLocation(lng,lat),'adress':getAdress(s)})\n",
    "    insertMongo(starbucks,s,lng,lat)\n",
    "\n",
    "### night search\n",
    "url_night = url+f\"night+bars+Boston&key={os.getenv('google')}\"\n",
    "#night_info = request_json(url_night) \n",
    "for n in night_info:\n",
    "    lng,lat = getPosition(n)\n",
    "    insertMongo(night,n,lng,lat)\n",
    "\n",
    "    "
   ]
  },
  {
   "cell_type": "code",
   "execution_count": null,
   "metadata": {},
   "outputs": [],
   "source": []
  },
  {
   "cell_type": "code",
   "execution_count": null,
   "metadata": {},
   "outputs": [],
   "source": []
  },
  {
   "cell_type": "code",
   "execution_count": 135,
   "metadata": {},
   "outputs": [],
   "source": [
    "# we set the initial location as the center of Boston, from googlemaps\n",
    "\n",
    "#city = place_request(\"boston,MA\")\n",
    "#airport = place_request(\"boston airport\")\n",
    "\n",
    "air_coord = [airport.get('lat'),airport.get('lng')]\n",
    "city_coord = [city.get(\"lat\"),city.get(\"lng\")]\n"
   ]
  },
  {
   "cell_type": "code",
   "execution_count": null,
   "metadata": {},
   "outputs": [],
   "source": []
  },
  {
   "cell_type": "code",
   "execution_count": 166,
   "metadata": {},
   "outputs": [],
   "source": [
    "coll = [old_comp,bankrupt,starbucks,night,schools,start]\n",
    "colls = []\n",
    "for i in range(6):\n",
    "    colls.append(list(coll[i].find({\"location.coordinates\":{\"$exists\":True}})))\n",
    "    "
   ]
  },
  {
   "cell_type": "code",
   "execution_count": null,
   "metadata": {},
   "outputs": [],
   "source": []
  },
  {
   "cell_type": "code",
   "execution_count": 152,
   "metadata": {},
   "outputs": [
    {
     "data": {
      "text/plain": [
       "<folium.plugins.draw.Draw at 0x11d26d450>"
      ]
     },
     "execution_count": 152,
     "metadata": {},
     "output_type": "execute_result"
    }
   ],
   "source": [
    " m = folium.Map(city_coord, zoom_start=15,tiles='cartodbpositron')\n",
    "     \n",
    "school_group = folium.FeatureGroup(name=\"Schools\").add_to(m)\n",
    "start_group = folium.FeatureGroup(name=\"Startups\").add_to(m)\n",
    "old_comp_group = folium.FeatureGroup(name=\"Old companies\").add_to(m)\n",
    "bankrupt_group = folium.FeatureGroup(name=\"Bankrupt companies\").add_to(m)\n",
    "starbucks_group = folium.FeatureGroup(name=\"Starbucks\").add_to(m) \n",
    "night_group = folium.FeatureGroup(name=\"Night bars\").add_to(m)\n",
    "plane_group = folium.FeatureGroup(name=\"Airport\").add_to(m)\n",
    "    \n",
    "    \n",
    "for c in colls[0]:\n",
    "    coord = c[\"location\"][\"coordinates\"][::-1]\n",
    "    icon=folium.Icon(color='red')\n",
    "    old_comp_group.add_child(folium.Marker(coord,popup=\"Old company \"+str(coord),icon=icon))   \n",
    "    \n",
    "for c in colls[1]:\n",
    "    coord = c[\"location\"][\"coordinates\"][::-1]\n",
    "    icon=folium.Icon(color='blue',prefix='bankrupt companies')\n",
    "    bankrupt_group.add_child(folium.Marker(coord,popup=\"bankrupt company \"+str(coord),icon=icon)) \n",
    "    \n",
    "for star in colls[2]:\n",
    "    coord = star[\"location\"][\"coordinates\"][::-1]\n",
    "    icon=folium.Icon(color='darkgreen')\n",
    "    starbucks_group.add_child(folium.Marker(coord,popup=\"Starbucks \"+str(coord),icon=icon))\n",
    "\n",
    "for club in colls[3]:\n",
    "    coord = club[\"location\"][\"coordinates\"][::-1]\n",
    "    icon=folium.Icon(color='lightgreen')\n",
    "    night_group.add_child(folium.Marker(coord,popup=\"Night bar \"+str(coord),icon=icon))\n",
    "    \n",
    "for school in colls[4]:\n",
    "    coord = school[\"location\"][\"coordinates\"][::-1]\n",
    "    icon=folium.Icon(color='green', icon='home', icon_color=\"lightblue\")\n",
    "    school_group.add_child(folium.Marker(coord,popup=\"School \"+str(coord),icon=icon))\n",
    "\n",
    "for start_loc in colls[5]:\n",
    "    coord = start_loc[\"location\"][\"coordinates\"][::-1]\n",
    "    icon=folium.Icon(color='green')\n",
    "    start_group.add_child(folium.Marker(coord,popup=\"Startup \"+str(coord),icon=icon))\n",
    "\n",
    "icon=folium.Icon(icon='cloud',color='lightblue', prefix='Airport')\n",
    "plane_group.add_child(folium.Marker(air_coord,popup=\"Airport \"+str(air_coord),icon=icon))\n",
    "    \n",
    "folium.LayerControl(collapsed=True).add_to(m)\n",
    "folium.LatLngPopup().add_to(m)\n",
    "\n",
    "draw = Draw(export=True)\n",
    "\n",
    "\n",
    "\n",
    "formatter = \"function(num) {return L.Util.formatNum(num, 3) + ' º ';};\"\n",
    "MousePosition(\n",
    "    position='topright',\n",
    "    separator=' | ',\n",
    "    lng_first=True,\n",
    "    prefix='Coordinates:',\n",
    "    lat_formatter=formatter,\n",
    "    lng_formatter=formatter,\n",
    ").add_to(m)\n",
    "\n",
    "\n",
    "\n",
    "draw.add_to(m)\n",
    "\n"
   ]
  },
  {
   "cell_type": "code",
   "execution_count": null,
   "metadata": {},
   "outputs": [],
   "source": [
    "# crear geoindex desde mongo compass"
   ]
  },
  {
   "cell_type": "code",
   "execution_count": 198,
   "metadata": {},
   "outputs": [],
   "source": [
    "def nearestPlaces(collection,selector,dist):\n",
    "    conv_factor = 0.0001572065389467467/100\n",
    "    x = collection.find({\"location\":\n",
    "    {\"$geoWithin\":{\"$centerSphere\":[position,conv_factor*dist]}}})\n",
    "    return list(x)"
   ]
  },
  {
   "cell_type": "code",
   "execution_count": 199,
   "metadata": {},
   "outputs": [],
   "source": [
    "for pos in range(len(colls[1])):\n",
    "    position = colls[1][pos][\"location\"].get(\"coordinates\")\n",
    "    for i in range(1,6):\n",
    "        d = nearestPlaces(old_comp,position,i*100)"
   ]
  },
  {
   "cell_type": "code",
   "execution_count": null,
   "metadata": {},
   "outputs": [],
   "source": []
  },
  {
   "cell_type": "code",
   "execution_count": null,
   "metadata": {
    "scrolled": false
   },
   "outputs": [],
   "source": [
    "\n"
   ]
  },
  {
   "cell_type": "code",
   "execution_count": null,
   "metadata": {},
   "outputs": [],
   "source": []
  },
  {
   "cell_type": "code",
   "execution_count": null,
   "metadata": {},
   "outputs": [],
   "source": []
  },
  {
   "cell_type": "code",
   "execution_count": null,
   "metadata": {},
   "outputs": [],
   "source": []
  },
  {
   "cell_type": "code",
   "execution_count": 147,
   "metadata": {},
   "outputs": [],
   "source": []
  },
  {
   "cell_type": "code",
   "execution_count": null,
   "metadata": {},
   "outputs": [],
   "source": []
  },
  {
   "cell_type": "code",
   "execution_count": null,
   "metadata": {},
   "outputs": [],
   "source": []
  },
  {
   "cell_type": "code",
   "execution_count": null,
   "metadata": {},
   "outputs": [],
   "source": []
  },
  {
   "cell_type": "code",
   "execution_count": null,
   "metadata": {},
   "outputs": [],
   "source": []
  }
 ],
 "metadata": {
  "kernelspec": {
   "display_name": "Python 3",
   "language": "python",
   "name": "python3"
  },
  "language_info": {
   "codemirror_mode": {
    "name": "ipython",
    "version": 3
   },
   "file_extension": ".py",
   "mimetype": "text/x-python",
   "name": "python",
   "nbconvert_exporter": "python",
   "pygments_lexer": "ipython3",
   "version": "3.7.5"
  }
 },
 "nbformat": 4,
 "nbformat_minor": 2
}

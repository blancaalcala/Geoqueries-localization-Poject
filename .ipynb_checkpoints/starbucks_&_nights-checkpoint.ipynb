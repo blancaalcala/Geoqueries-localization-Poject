{
 "cells": [
  {
   "cell_type": "code",
   "execution_count": 1,
   "metadata": {},
   "outputs": [],
   "source": [
    "import functions as F\n",
    "import os\n",
    "import re\n",
    "import pandas as pd\n",
    "from dotenv import load_dotenv\n",
    "from pymongo import MongoClient\n",
    "from bs4 import BeautifulSoup\n",
    "import geocoder\n",
    "import requests\n",
    "import folium\n",
    "from folium.plugins import MousePosition\n",
    "from folium.plugins import Draw\n",
    "from geopy.distance import distance as getDistance\n",
    "load_dotenv()\n",
    "\n",
    "dbName = 'companies'\n",
    "\n",
    "db, boston = F.connectCollection(dbName,'companies')\n",
    "db, start = F.connectCollection(dbName,'startups')\n",
    "db, old_comp = F.connectCollection(dbName,'old_comp')\n",
    "db, starbucks = F.connectCollection(dbName,'starbucks')\n",
    "db, schools = F.connectCollection(dbName,'schools')\n",
    "db, night = F.connectCollection(dbName,'night')"
   ]
  },
  {
   "cell_type": "markdown",
   "metadata": {},
   "source": [
    "1. STARBUCKS\n",
    "    - Buscamos con la API de google las posiciones de los starbucks en Boston (20 primeros)\n",
    "    - Introducimos la posicion de los starbucks en una nueva coleccion en mongogb\n",
    "2. NIGHT BARS\n",
    "    - Tambien buscamos la geolocalizacion de los 20 primeros bares con la API de google\n",
    "    - Creamos una nueva coleccion e introducimos las posicion"
   ]
  },
  {
   "cell_type": "code",
   "execution_count": null,
   "metadata": {},
   "outputs": [],
   "source": [
    "url = \"https://maps.googleapis.com/maps/api/place/textsearch/json?query=\"\n",
    "\n",
    "url_starbucks = url+f\"starbucks+in+Boston&key={os.getenv('google')}\"\n",
    "#starbucks_info = F.request_json(url_starbucks)\n",
    "for s in starbucks_info:\n",
    "    lng,lat = F.getPosition(s)\n",
    "    starbucks.insert_one({'location':getLocation(lng,lat),'adress':getAdress(s)})\n",
    "    F.insertMongo(starbucks,s,lng,lat)\n",
    "\n",
    "url_night = url+f\"night+bars+Boston&key={os.getenv('google')}\"\n",
    "#night_info = F.request_json(url_night) \n",
    "for n in night_info:\n",
    "    lng,lat = F.getPosition(n)\n",
    "    F.insertMongo(night,n,lng,lat)"
   ]
  }
 ],
 "metadata": {
  "kernelspec": {
   "display_name": "Python 3",
   "language": "python",
   "name": "python3"
  },
  "language_info": {
   "codemirror_mode": {
    "name": "ipython",
    "version": 3
   },
   "file_extension": ".py",
   "mimetype": "text/x-python",
   "name": "python",
   "nbconvert_exporter": "python",
   "pygments_lexer": "ipython3",
   "version": "3.7.5"
  }
 },
 "nbformat": 4,
 "nbformat_minor": 2
}

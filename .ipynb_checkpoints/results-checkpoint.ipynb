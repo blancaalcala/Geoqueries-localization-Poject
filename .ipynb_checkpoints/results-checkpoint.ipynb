{
 "cells": [
  {
   "cell_type": "code",
   "execution_count": 3,
   "metadata": {},
   "outputs": [],
   "source": [
    "%store -r city_coord\n",
    "%store -r air_coord\n",
    "%store -r office_info\n",
    "%store -r office_coords\n",
    "%store -r of_size\n",
    "%store -r of_ref\n",
    "\n",
    "import functions as F\n",
    "import os\n",
    "import re\n",
    "import pandas as pd\n",
    "from dotenv import load_dotenv\n",
    "from pymongo import MongoClient\n",
    "from bs4 import BeautifulSoup\n",
    "import geocoder\n",
    "import requests\n",
    "import folium\n",
    "from folium.plugins import MousePosition\n",
    "from folium.plugins import Draw\n",
    "from geopy.distance import distance as getDistance\n",
    "load_dotenv()\n",
    "\n",
    "\n",
    "dbName = 'companies'\n",
    "\n",
    "db, start = F.connectCollection(dbName,'startups')\n",
    "db, old_comp = F.connectCollection(dbName,'old_comp')\n",
    "db, starbucks = F.connectCollection(dbName,'starbucks')\n",
    "db, schools = F.connectCollection(dbName,'schools')\n",
    "db, night = F.connectCollection(dbName,'night')\n",
    "\n"
   ]
  },
  {
   "cell_type": "code",
   "execution_count": 4,
   "metadata": {},
   "outputs": [],
   "source": [
    "names = [\"Schools\",\"Startups\",\"Old companies\",\"Starbucks\",\"Night bars\",\"Airport\",\"Offices\"]  \n",
    "collections = [schools,start,old_comp,starbucks,night]\n",
    "colors = [\"lightblue\",\"green\",\"red\",\"darkgreen\",\"orange\"]"
   ]
  },
  {
   "cell_type": "code",
   "execution_count": 8,
   "metadata": {},
   "outputs": [
    {
     "data": {
      "text/plain": [
       "<folium.plugins.draw.Draw at 0x11807fa90>"
      ]
     },
     "execution_count": 8,
     "metadata": {},
     "output_type": "execute_result"
    }
   ],
   "source": [
    "m = folium.Map(city_coord, zoom_start=15,tiles='cartodbpositron')\n",
    "     \n",
    "school_group = folium.FeatureGroup(name=names[0]).add_to(m)\n",
    "start_group = folium.FeatureGroup(name=names[1]).add_to(m)\n",
    "old_comp_group = folium.FeatureGroup(name=names[2]).add_to(m)\n",
    "starbucks_group = folium.FeatureGroup(name=names[3]).add_to(m) \n",
    "night_group = folium.FeatureGroup(name=names[4]).add_to(m)\n",
    "plane_group = folium.FeatureGroup(name=names[5]).add_to(m)\n",
    "office_group = folium.FeatureGroup(name=names[6]).add_to(m)\n",
    "groups = [school_group,start_group,old_comp_group,starbucks_group,night_group,plane_group,office_group]\n",
    "   \n",
    "\n",
    "for g in range(len(groups)-2):\n",
    "    for c in F.checkLocation(collections[g]):\n",
    "        coord = c[\"location\"][\"coordinates\"][::-1]\n",
    "        icon=folium.Icon(color=colors[g])\n",
    "        groups[g].add_child(folium.Marker(coord,popup=names[g]+\" \"+str(coord),icon=icon))   \n",
    "\n",
    "icon=folium.Icon(icon='cloud',color='lightblue', prefix='Airport')\n",
    "plane_group.add_child(folium.Marker(air_coord,popup=\"Airport \"+str(air_coord),icon=icon))\n",
    "\n",
    "for o in office_coords:\n",
    "    icon=folium.Icon(color='darkblue')\n",
    "    office_group.add_child(folium.Marker(o[::-1],popup=names[g]+\" \"+str(coord),icon=icon))   \n",
    "    \n",
    "folium.LayerControl(collapsed=True).add_to(m)\n",
    "folium.LatLngPopup().add_to(m)\n",
    "draw = Draw(export=True)\n",
    "formatter = \"function(num) {return L.Util.formatNum(num, 3) + ' º ';};\"\n",
    "MousePosition(\n",
    "    position='topright',\n",
    "    separator=' | ',\n",
    "    lng_first=True,\n",
    "    prefix='Coordinates:',\n",
    "    lat_formatter=formatter,\n",
    "    lng_formatter=formatter,\n",
    ").add_to(m)\n",
    "draw.add_to(m)"
   ]
  },
  {
   "cell_type": "code",
   "execution_count": null,
   "metadata": {},
   "outputs": [],
   "source": []
  },
  {
   "cell_type": "code",
   "execution_count": 9,
   "metadata": {},
   "outputs": [
    {
     "name": "stdout",
     "output_type": "stream",
     "text": [
      "Introduce the weight of Schools (1-5): 5\n",
      "Introduce the weight of Startups (1-5): 0\n",
      "Introduce the weight of Old companies (1-5): 0\n",
      "Introduce the weight of Starbucks (1-5): 0\n",
      "Introduce the weight of Night bars (1-5): 0\n"
     ]
    }
   ],
   "source": [
    "weight = []\n",
    "for n in names[:5]:\n",
    "    weight.append(int(input(f\"Introduce the weight of {n} (1-5): \")))"
   ]
  },
  {
   "cell_type": "code",
   "execution_count": 10,
   "metadata": {},
   "outputs": [],
   "source": [
    "C = [old_comp,starbucks,night,schools,start]\n",
    "points,adresses,air_dist = F.pointsFunction(C,office_coords,office_info,air_coord,weight)"
   ]
  },
  {
   "cell_type": "markdown",
   "metadata": {},
   "source": [
    "Creamos un nuevo Dataframe con la informacion a cerca de cada una de las oficinas donde podriamos potencialmente colocar la empresa:\n",
    "    - Direccion\n",
    "    - Tamaño de la oficina\n",
    "    - Puntuacion en el ranking total\n",
    "    - Distancia a startups, starbucks, compañias antiguas, aeropuerto, colegios y bares mas cercanos\n",
    "    - Coordenadas\n",
    "    - Referencia"
   ]
  },
  {
   "cell_type": "code",
   "execution_count": 11,
   "metadata": {},
   "outputs": [],
   "source": [
    "url_1 = \"https://42floors.com/\"\n",
    "\n",
    "df_offices = pd.DataFrame\n",
    "\n",
    "df_offices = pd.DataFrame(columns=['Adress','Square Feet','Punctuation','Startups','Starbucks',\n",
    "                                   'Old companies','Airport','Schools','Night bars','Location','Reference'])\n",
    " \n",
    "for index in range(len(points)):\n",
    "    total = sum(points[index][1:])-points[index][0]\n",
    "    df_offices = df_offices.append({'Adress':adresses[index],'Punctuation':total,\n",
    "                                    'Starbucks':points[index][1],'Schools':points[index][3],'Startups':points[index][4],\n",
    "                                    'Old companies':-points[index][0],'Night bars':points[index][2],\n",
    "                                    'Square Feet':of_size[index],'Location':office_coords[index],\n",
    "                                   'Reference':url_1+of_ref[index],'Airport':air_dist[index]},ignore_index=True)"
   ]
  },
  {
   "cell_type": "code",
   "execution_count": 12,
   "metadata": {},
   "outputs": [],
   "source": [
    "df = df_offices.sort_values(by=['Punctuation'],ascending=False)\n",
    "df.to_csv('../output/office-location.csv')"
   ]
  },
  {
   "cell_type": "code",
   "execution_count": 13,
   "metadata": {},
   "outputs": [
    {
     "name": "stdout",
     "output_type": "stream",
     "text": [
      "Introduce the index of the office you want:1\n"
     ]
    }
   ],
   "source": [
    "coordinates = int(input(\"Introduce the index of the office you want:\" ))\n",
    "selected_office = df[\"Location\"].iloc[coordinates]"
   ]
  },
  {
   "cell_type": "code",
   "execution_count": 27,
   "metadata": {},
   "outputs": [],
   "source": [
    "\n"
   ]
  },
  {
   "cell_type": "code",
   "execution_count": 28,
   "metadata": {},
   "outputs": [
    {
     "data": {
      "text/plain": [
       "<folium.plugins.draw.Draw at 0x111f07890>"
      ]
     },
     "execution_count": 28,
     "metadata": {},
     "output_type": "execute_result"
    }
   ],
   "source": [
    "m2 = folium.Map(selected_office[::-1], zoom_start=16,tiles='cartodbpositron')\n",
    "\n",
    "names = [\"Schools\",\"Startups\",\"Old companies\",\"Starbucks\",\"Night bars\",\"Airport\",\"Offices\"]  \n",
    "collections = [schools,start,old_comp,starbucks,night]\n",
    "colors = [\"lightblue\",\"green\",\"red\",\"darkgreen\",\"orange\"]\n",
    "     \n",
    "school_group = folium.FeatureGroup(name=names[0]).add_to(m2)\n",
    "start_group = folium.FeatureGroup(name=names[1]).add_to(m2)\n",
    "old_comp_group = folium.FeatureGroup(name=names[2]).add_to(m2)\n",
    "starbucks_group = folium.FeatureGroup(name=names[3]).add_to(m2) \n",
    "night_group = folium.FeatureGroup(name=names[4]).add_to(m2)\n",
    "plane_group = folium.FeatureGroup(name=names[5]).add_to(m2)\n",
    "office_group = folium.FeatureGroup(name=names[6]).add_to(m2)\n",
    "groups = [school_group,start_group,old_comp_group,starbucks_group,night_group,plane_group,office_group]\n",
    "   \n",
    "\n",
    "for g in range(len(groups)-2):\n",
    "    for c in F.checkLocation(collections[g]):\n",
    "        coord = c[\"location\"][\"coordinates\"][::-1]\n",
    "        icon=folium.Icon(color=colors[g])\n",
    "        groups[g].add_child(folium.Marker(coord,popup=names[g]+\" \"+str(coord),icon=icon))   \n",
    "\n",
    "icon=folium.Icon(color='black')\n",
    "plane_group.add_child(folium.Marker(air_coord,popup=\"Airport \"+str(air_coord),icon=icon))\n",
    "\n",
    "\n",
    "icon=folium.Icon(color='darkblue')\n",
    "office_group.add_child(folium.Marker(selected_office[::-1],popup=\"CHOSEN OFFICE\"+\" \"+str(coord),icon=icon))   \n",
    "    \n",
    "folium.LayerControl(collapsed=True).add_to(m2)\n",
    "folium.LatLngPopup().add_to(m2)\n",
    "draw = Draw(export=True)\n",
    "formatter = \"function(num) {return L.Util.formatNum(num, 3) + ' º ';};\"\n",
    "MousePosition(\n",
    "    position='topright',\n",
    "    separator=' | ',\n",
    "    lng_first=True,\n",
    "    prefix='Coordinates:',\n",
    "    lat_formatter=formatter,\n",
    "    lng_formatter=formatter,\n",
    ").add_to(m2)\n",
    "draw.add_to(m2)"
   ]
  },
  {
   "cell_type": "code",
   "execution_count": null,
   "metadata": {},
   "outputs": [],
   "source": []
  },
  {
   "cell_type": "code",
   "execution_count": null,
   "metadata": {},
   "outputs": [],
   "source": []
  },
  {
   "cell_type": "code",
   "execution_count": null,
   "metadata": {},
   "outputs": [],
   "source": []
  }
 ],
 "metadata": {
  "kernelspec": {
   "display_name": "Python 3",
   "language": "python",
   "name": "python3"
  },
  "language_info": {
   "codemirror_mode": {
    "name": "ipython",
    "version": 3
   },
   "file_extension": ".py",
   "mimetype": "text/x-python",
   "name": "python",
   "nbconvert_exporter": "python",
   "pygments_lexer": "ipython3",
   "version": "3.7.5"
  }
 },
 "nbformat": 4,
 "nbformat_minor": 2
}
